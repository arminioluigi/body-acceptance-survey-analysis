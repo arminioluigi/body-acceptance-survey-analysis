{
  "nbformat": 4,
  "nbformat_minor": 0,
  "metadata": {
    "kernelspec": {
      "display_name": "R",
      "language": "R",
      "name": "ir"
    },
    "language_info": {
      "codemirror_mode": "r",
      "file_extension": ".r",
      "mimetype": "text/x-r-source",
      "name": "R",
      "pygments_lexer": "r",
      "version": "3.6.1"
    },
    "colab": {
      "name": "DataAnalysis-Body-Survey.ipynb",
      "provenance": []
    }
  },
  "cells": [
    {
      "cell_type": "markdown",
      "metadata": {
        "id": "xlCDMbBa1-UL"
      },
      "source": [
        "<b>Research Proposal  - research question formulation and data exploration</b>\n",
        "<BR>\n",
        "Data exploration for a research project conducted about body perception and body acceptance\n",
        "<BR>\n",
        "<BR>\n",
        "<b>Data exploration</b>\n",
        "<BR>\n",
        "The first step to get to the heart of the research process is to load the dataset and, once explored the variables, to select the variables considered functional to the analysis process, i.e. the ones that could, hypothetically, play a role in determining body acceptance.\n",
        "Down here, the R script produced to load some fundamental packages is reported.\n"
      ]
    },
    {
      "cell_type": "code",
      "metadata": {
        "colab": {
          "base_uri": "https://localhost:8080/"
        },
        "id": "BNZsaShn1-UW",
        "outputId": "175d4452-3425-407f-97dc-5fdb7adb4d45"
      },
      "source": [
        "#1 Loading the packages to read the dta file and analyze the dataset\n",
        "install.packages(\"GPArotation\")\n",
        "install.packages(\"survey\")\n",
        "install.packages(\"broom\")\n",
        "install.packages(\"psych\")\n",
        "install.packages(\"tidyverse\")\n",
        "install.packages(\"haven\")\n",
        "install.packages(\"dplyr\")\n",
        "install.packages(\"lm.beta\")\n",
        "install.packages(\"sjlabelled\")\n",
        "\n",
        "library(GPArotation)\n",
        "library(survey)\n",
        "library(broom)\n",
        "library(psych)\n",
        "library(tidyverse)\n",
        "library(haven)\n",
        "library(dplyr)\n",
        "library(lm.beta)\n",
        "#1.1 Loading the package to treat dta dataset and converting the dataset\n",
        "library(sjlabelled)\n",
        "\n"
      ],
      "execution_count": null,
      "outputs": [
        {
          "output_type": "stream",
          "text": [
            "Installing package into ‘/usr/local/lib/R/site-library’\n",
            "(as ‘lib’ is unspecified)\n",
            "\n",
            "Installing package into ‘/usr/local/lib/R/site-library’\n",
            "(as ‘lib’ is unspecified)\n",
            "\n",
            "Installing package into ‘/usr/local/lib/R/site-library’\n",
            "(as ‘lib’ is unspecified)\n",
            "\n",
            "Installing package into ‘/usr/local/lib/R/site-library’\n",
            "(as ‘lib’ is unspecified)\n",
            "\n",
            "Installing package into ‘/usr/local/lib/R/site-library’\n",
            "(as ‘lib’ is unspecified)\n",
            "\n",
            "Installing package into ‘/usr/local/lib/R/site-library’\n",
            "(as ‘lib’ is unspecified)\n",
            "\n",
            "Installing package into ‘/usr/local/lib/R/site-library’\n",
            "(as ‘lib’ is unspecified)\n",
            "\n",
            "Installing package into ‘/usr/local/lib/R/site-library’\n",
            "(as ‘lib’ is unspecified)\n",
            "\n",
            "Installing package into ‘/usr/local/lib/R/site-library’\n",
            "(as ‘lib’ is unspecified)\n",
            "\n",
            "Loading required package: grid\n",
            "\n",
            "Loading required package: Matrix\n",
            "\n",
            "Loading required package: survival\n",
            "\n",
            "\n",
            "Attaching package: ‘survey’\n",
            "\n",
            "\n",
            "The following object is masked from ‘package:graphics’:\n",
            "\n",
            "    dotchart\n",
            "\n",
            "\n",
            "Warning message in system(\"timedatectl\", intern = TRUE):\n",
            "“running command 'timedatectl' had status 1”\n",
            "── \u001b[1mAttaching packages\u001b[22m ─────────────────────────────────────── tidyverse 1.3.1 ──\n",
            "\n",
            "\u001b[32m✔\u001b[39m \u001b[34mggplot2\u001b[39m 3.3.3     \u001b[32m✔\u001b[39m \u001b[34mpurrr  \u001b[39m 0.3.4\n",
            "\u001b[32m✔\u001b[39m \u001b[34mtibble \u001b[39m 3.1.2     \u001b[32m✔\u001b[39m \u001b[34mdplyr  \u001b[39m 1.0.7\n",
            "\u001b[32m✔\u001b[39m \u001b[34mtidyr  \u001b[39m 1.1.3     \u001b[32m✔\u001b[39m \u001b[34mstringr\u001b[39m 1.4.0\n",
            "\u001b[32m✔\u001b[39m \u001b[34mreadr  \u001b[39m 1.4.0     \u001b[32m✔\u001b[39m \u001b[34mforcats\u001b[39m 0.5.1\n",
            "\n",
            "── \u001b[1mConflicts\u001b[22m ────────────────────────────────────────── tidyverse_conflicts() ──\n",
            "\u001b[31m✖\u001b[39m \u001b[34mggplot2\u001b[39m::\u001b[32m%+%()\u001b[39m   masks \u001b[34mpsych\u001b[39m::%+%()\n",
            "\u001b[31m✖\u001b[39m \u001b[34mggplot2\u001b[39m::\u001b[32malpha()\u001b[39m masks \u001b[34mpsych\u001b[39m::alpha()\n",
            "\u001b[31m✖\u001b[39m \u001b[34mtidyr\u001b[39m::\u001b[32mexpand()\u001b[39m  masks \u001b[34mMatrix\u001b[39m::expand()\n",
            "\u001b[31m✖\u001b[39m \u001b[34mdplyr\u001b[39m::\u001b[32mfilter()\u001b[39m  masks \u001b[34mstats\u001b[39m::filter()\n",
            "\u001b[31m✖\u001b[39m \u001b[34mdplyr\u001b[39m::\u001b[32mlag()\u001b[39m     masks \u001b[34mstats\u001b[39m::lag()\n",
            "\u001b[31m✖\u001b[39m \u001b[34mtidyr\u001b[39m::\u001b[32mpack()\u001b[39m    masks \u001b[34mMatrix\u001b[39m::pack()\n",
            "\u001b[31m✖\u001b[39m \u001b[34mtidyr\u001b[39m::\u001b[32munpack()\u001b[39m  masks \u001b[34mMatrix\u001b[39m::unpack()\n",
            "\n",
            "\n",
            "Attaching package: ‘sjlabelled’\n",
            "\n",
            "\n",
            "The following objects are masked from ‘package:haven’:\n",
            "\n",
            "    as_factor, read_sas, read_spss, read_stata, write_sas, zap_labels\n",
            "\n",
            "\n",
            "The following object is masked from ‘package:forcats’:\n",
            "\n",
            "    as_factor\n",
            "\n",
            "\n",
            "The following object is masked from ‘package:dplyr’:\n",
            "\n",
            "    as_label\n",
            "\n",
            "\n"
          ],
          "name": "stderr"
        }
      ]
    },
    {
      "cell_type": "markdown",
      "source": [
        "Let's load the data. Since our dataset is in dta format (STATA), we need to use the *read_dta* function."
      ],
      "metadata": {
        "id": "H0P-p88Nym25"
      }
    },
    {
      "cell_type": "code",
      "metadata": {
        "id": "6cwskNlN1-Ua"
      },
      "source": [
        "#2 Reading the dataset\n",
        "Bodydataset <- read_dta(\"Body12.dta\")\n",
        "#3 Creating an unlabeled copy of the dataset\n",
        "BDS <- as.data.frame(Bodydataset)\n",
        "BDS <- remove_all_labels(BDS)"
      ],
      "execution_count": null,
      "outputs": []
    },
    {
      "cell_type": "markdown",
      "metadata": {
        "id": "5N0Kd0H41-Ub"
      },
      "source": [
        "<b>Social pressure on body care, gender, department of study and psychological features </b>\n",
        "<BR>\n",
        "Once the <b>dataset</b> has been read, we can start the explorative analysis. To begin with, We will explore each questionnaire item that can be considered useful to define a feature that plays a relavant role in predicting the way in which people relate with their own body, and more specifically, with the acceptance of his/her body. \n",
        "The first items considered are the ones from the battery B3, that contains the first block of questions concerning body care addressed to the interviewed people. In these battery, there are questions that measure the tendency that the people have to compare their own  appearance to the one of the other people in <b>social</b> contexts.<BR>\n",
        "In other words, these item seems to be aimed at measuring the impact of the social pressure on the perception of one’s body.\n",
        "Since all these questions are about the same concept, I hypothesized that they could be considered as components of a unique scale. To prove that, I computed Cronbach's Alpha, reversing the question that measured the hyothesized concept in a negative way (the comparison to other people seen as a \"bad\" instead of a positive thing). \n"
      ]
    },
    {
      "cell_type": "code",
      "metadata": {
        "id": "JIMGqzej1-Uc",
        "colab": {
          "base_uri": "https://localhost:8080/",
          "height": 797
        },
        "outputId": "0106ee53-d44c-4f9b-f79b-4bbb5ff5be07"
      },
      "source": [
        "#3Subsetting B3 items\n",
        "B3 <- subset(BDS, select=(c(B3_1,B3_2,B3_3,B3_4,B3_5)))\n",
        "#4 Creating reversed B3_4:\n",
        "B3$B3_4_r<-6-BDS$B3_4\n",
        "#5 Deleting old B3_4\n",
        "B3$B3_4<-NULL\n",
        "#6 Computing Crobach Alpha\n",
        "install.packages(\"ltm\")\n",
        "library(ltm)\n",
        "cronbach.alpha(na.omit(B3))"
      ],
      "execution_count": null,
      "outputs": [
        {
          "output_type": "stream",
          "text": [
            "Installing package into ‘/usr/local/lib/R/site-library’\n",
            "(as ‘lib’ is unspecified)\n",
            "\n",
            "also installing the dependencies ‘mvtnorm’, ‘expm’, ‘msm’, ‘polycor’\n",
            "\n",
            "\n",
            "Loading required package: MASS\n",
            "\n",
            "\n",
            "Attaching package: ‘MASS’\n",
            "\n",
            "\n",
            "The following object is masked from ‘package:dplyr’:\n",
            "\n",
            "    select\n",
            "\n",
            "\n",
            "Loading required package: msm\n",
            "\n",
            "Loading required package: polycor\n",
            "\n",
            "\n",
            "Attaching package: ‘polycor’\n",
            "\n",
            "\n",
            "The following object is masked from ‘package:psych’:\n",
            "\n",
            "    polyserial\n",
            "\n",
            "\n",
            "\n",
            "Attaching package: ‘ltm’\n",
            "\n",
            "\n",
            "The following object is masked from ‘package:psych’:\n",
            "\n",
            "    factor.scores\n",
            "\n",
            "\n"
          ],
          "name": "stderr"
        },
        {
          "output_type": "display_data",
          "data": {
            "text/plain": [
              "\n",
              "Cronbach's alpha for the 'na.omit(B3)' data-set\n",
              "\n",
              "Items: 5\n",
              "Sample units: 711\n",
              "alpha: 0.726\n"
            ]
          },
          "metadata": {
            "tags": []
          }
        }
      ]
    },
    {
      "cell_type": "markdown",
      "metadata": {
        "id": "eOOWr_1Gyiha"
      },
      "source": [
        "The Cronbach's Alpha is greater than 0.7. Hence, the variable can be joint into a unique index, that I called in my paper **Body Image \n",
        "Social Comparison (BISC) Index**:"
      ]
    },
    {
      "cell_type": "code",
      "metadata": {
        "id": "IdcO9NAo1-Ue"
      },
      "source": [
        "#7 Generating the new variable “Appsocial” (BISC Index)\n",
        "BDS$Appsocial <- ((B3$B3_1 + B3$B3_2 + B3$B3_3 +B3$B3_4_r + B3$B3_5 - 5)/20)*100"
      ],
      "execution_count": null,
      "outputs": []
    },
    {
      "cell_type": "markdown",
      "metadata": {
        "id": "HYhC3HLu1-Uf"
      },
      "source": [
        "This new metric variable allows me to do some statistical analysis with some possible predictors. First of all, we can try to predict the degree of social conditioning through the sex, by using an ANOVA model and visualizing the confidence intervals by sex for the variable."
      ]
    },
    {
      "cell_type": "code",
      "metadata": {
        "id": "70Sju_W31-Uf",
        "colab": {
          "base_uri": "https://localhost:8080/",
          "height": 260
        },
        "outputId": "f453f155-c320-405e-d071-b1ce29b0301b"
      },
      "source": [
        "#8 Priting mean values of the BISC Index (Appsocial) variable for males and females\n",
        "#loading the package\n",
        "install.packages(\"gmodels\")\n",
        "library(gmodels)\n",
        "#confidence intervals\n",
        "print(\"Male CI\")\n",
        "round(ci(na.omit(BDS$Appsocial[BDS$sesso==\"M\"])),digit=3)\n",
        "print(\"Female CI\")\n",
        "round(ci(na.omit(BDS$Appsocial[BDS$sesso==\"F\"])),digit=3)\n"
      ],
      "execution_count": null,
      "outputs": [
        {
          "output_type": "stream",
          "text": [
            "Installing package into ‘/usr/local/lib/R/site-library’\n",
            "(as ‘lib’ is unspecified)\n",
            "\n",
            "also installing the dependencies ‘gtools’, ‘gdata’\n",
            "\n",
            "\n"
          ],
          "name": "stderr"
        },
        {
          "output_type": "stream",
          "text": [
            "[1] \"Male CI\"\n"
          ],
          "name": "stdout"
        },
        {
          "output_type": "stream",
          "text": [
            "Warning message in ci.numeric(na.omit(BDS$Appsocial[BDS$sesso == \"M\"])):\n",
            "“No class or unkown class.  Using default calcuation.”\n"
          ],
          "name": "stderr"
        },
        {
          "output_type": "display_data",
          "data": {
            "text/plain": [
              "  Estimate   CI lower   CI upper Std. Error \n",
              "    34.358     31.782     36.934      1.308 "
            ],
            "text/latex": "\\begin{description*}\n\\item[Estimate] 34.358\n\\item[CI lower] 31.782\n\\item[CI upper] 36.934\n\\item[Std. Error] 1.308\n\\end{description*}\n",
            "text/markdown": "Estimate\n:   34.358CI lower\n:   31.782CI upper\n:   36.934Std. Error\n:   1.308\n\n",
            "text/html": [
              "<style>\n",
              ".dl-inline {width: auto; margin:0; padding: 0}\n",
              ".dl-inline>dt, .dl-inline>dd {float: none; width: auto; display: inline-block}\n",
              ".dl-inline>dt::after {content: \":\\0020\"; padding-right: .5ex}\n",
              ".dl-inline>dt:not(:first-of-type) {padding-left: .5ex}\n",
              "</style><dl class=dl-inline><dt>Estimate</dt><dd>34.358</dd><dt>CI lower</dt><dd>31.782</dd><dt>CI upper</dt><dd>36.934</dd><dt>Std. Error</dt><dd>1.308</dd></dl>\n"
            ]
          },
          "metadata": {
            "tags": []
          }
        },
        {
          "output_type": "stream",
          "text": [
            "[1] \"Female CI\"\n"
          ],
          "name": "stdout"
        },
        {
          "output_type": "stream",
          "text": [
            "Warning message in ci.numeric(na.omit(BDS$Appsocial[BDS$sesso == \"F\"])):\n",
            "“No class or unkown class.  Using default calcuation.”\n"
          ],
          "name": "stderr"
        },
        {
          "output_type": "display_data",
          "data": {
            "text/plain": [
              "  Estimate   CI lower   CI upper Std. Error \n",
              "    42.401     40.588     44.214      0.923 "
            ],
            "text/latex": "\\begin{description*}\n\\item[Estimate] 42.401\n\\item[CI lower] 40.588\n\\item[CI upper] 44.214\n\\item[Std. Error] 0.923\n\\end{description*}\n",
            "text/markdown": "Estimate\n:   42.401CI lower\n:   40.588CI upper\n:   44.214Std. Error\n:   0.923\n\n",
            "text/html": [
              "<style>\n",
              ".dl-inline {width: auto; margin:0; padding: 0}\n",
              ".dl-inline>dt, .dl-inline>dd {float: none; width: auto; display: inline-block}\n",
              ".dl-inline>dt::after {content: \":\\0020\"; padding-right: .5ex}\n",
              ".dl-inline>dt:not(:first-of-type) {padding-left: .5ex}\n",
              "</style><dl class=dl-inline><dt>Estimate</dt><dd>42.401</dd><dt>CI lower</dt><dd>40.588</dd><dt>CI upper</dt><dd>44.214</dd><dt>Std. Error</dt><dd>0.923</dd></dl>\n"
            ]
          },
          "metadata": {
            "tags": []
          }
        }
      ]
    },
    {
      "cell_type": "code",
      "metadata": {
        "id": "SOuaTAsD1-Uh",
        "colab": {
          "base_uri": "https://localhost:8080/",
          "height": 121
        },
        "outputId": "313e36ed-28d3-4f75-8c24-cbb1386b3072"
      },
      "source": [
        "#9 Analyzing the relationship between sex and BISC Index\n",
        "genB3 <- aov(BDS$Appsocial~BDS$sesso)\n",
        "summary(genB3) #sex is signficant"
      ],
      "execution_count": null,
      "outputs": [
        {
          "output_type": "display_data",
          "data": {
            "text/plain": [
              "             Df Sum Sq Mean Sq F value   Pr(>F)    \n",
              "BDS$sesso     1  10616   10616   26.17 4.03e-07 ***\n",
              "Residuals   709 287602     406                     \n",
              "---\n",
              "Signif. codes:  0 ‘***’ 0.001 ‘**’ 0.01 ‘*’ 0.05 ‘.’ 0.1 ‘ ’ 1\n",
              "33 observations deleted due to missingness"
            ]
          },
          "metadata": {
            "tags": []
          }
        }
      ]
    },
    {
      "cell_type": "markdown",
      "metadata": {
        "id": "YtXa_V7O1-Uj"
      },
      "source": [
        "This corroborates the previously hypothesized association between sex and social pressure on the perception of the body. Looking at the mean values, the average tendency to compare one’s own appearance to the one of the other people in social context is higher in females. "
      ]
    },
    {
      "cell_type": "markdown",
      "metadata": {
        "id": "4_vKqYeG1-Ul"
      },
      "source": [
        "Anyway, it's important to consider other possible features, such as individual traits (more specifically, the Big 5 personality traits), that can play a role in determining the relationship between people and their appearance. Since, from this dataset, Neuroticism, Extraversion and Agreeableness turns out to be associated to sex, (with higher scores related to these traits in women than in men), we will have to consider that while analyzing relationships between personality traits and other features.\n",
        "Another variable that is considered, since we're dealing with a questionnaire addrssed to students, is the department of origin of the interviewee. This is because different departments can be characterized by differences in gender distribution, economic stratification, competitiveness level, passions, interests and political beliefs of the students, and so, all these variables could act and/or interact with the social pressure on one's own appearance.\n",
        "A linear model is computed including all these variables."
      ]
    },
    {
      "cell_type": "code",
      "metadata": {
        "id": "Wq7LUx3o1-Um",
        "colab": {
          "base_uri": "https://localhost:8080/",
          "height": 503
        },
        "outputId": "34b431ba-6dd4-47aa-e0c4-af3fd7b9b509"
      },
      "source": [
        "#10 Grouping the university attended by the students in a dummy variable\n",
        "BDS$dipgroup <- BDS$dip\n",
        "BDS$dipgroup[BDS$dip==1]<-\"Hill\" #C3A\n",
        "BDS$dipgroup[BDS$dip==2]<-\"Hill\" #Biology\n",
        "BDS$dipgroup[BDS$dip==3]<-\"Trento/Rovereto\" #Mind/Brain Sciences\n",
        "BDS$dipgroup[BDS$dip==4]<-\"Trento/Rovereto\" #Economics\n",
        "BDS$dipgroup[BDS$dip==5]<-\"Hill\" #Physics\n",
        "BDS$dipgroup[BDS$dip==6]<-\"Hill\" #Civil/Enc/Mech Engineering\n",
        "BDS$dipgroup[BDS$dip==7]<-\"Hill\" #Industrial Engineering\n",
        "BDS$dipgroup[BDS$dip==8]<-\"Hill\" #Computer Science\n",
        "BDS$dipgroup[BDS$dip==9]<-\"Trento/Rovereto\" #Humanities\n",
        "BDS$dipgroup[BDS$dip==10]<-\"Hill\" #Mathematics\n",
        "BDS$dipgroup[BDS$dip==11]<-\"Trento/Rovereto\" #Psychology\n",
        "BDS$dipgroup[BDS$dip==12]<-\"Trento/Rovereto\" #Sociology\n",
        "BDS$dipgroup[BDS$dip==13]<-\"Trento/Rovereto\" #Law\n",
        "BDS$dipgroup[BDS$dip==14]<-\"Trento/Rovereto\"#International studies\n",
        "BDS$dipgroup <- as.factor(BDS$dipgroup)\n",
        "#10.1 Normalizing self esteem scale to have it in a range (0,100):\n",
        "BDS$self_esteeme<-(BDS$self_esteeme/30)*100\n",
        "#11 building the linear model to analyze the rel between Big 5 and Appsocial:\n",
        "Big5applm <- lm(Appsocial~Extraversion+Agreeableness+Conscientiousness+Neuroticism+Openness+sesso+self_esteeme+dipgroup,data=BDS,weights=BDS$peso1)\n",
        "#12 summarizing\n",
        "summary(Big5applm)\n"
      ],
      "execution_count": null,
      "outputs": [
        {
          "output_type": "display_data",
          "data": {
            "text/plain": [
              "\n",
              "Call:\n",
              "lm(formula = Appsocial ~ Extraversion + Agreeableness + Conscientiousness + \n",
              "    Neuroticism + Openness + sesso + self_esteeme + dipgroup, \n",
              "    data = BDS, weights = BDS$peso1)\n",
              "\n",
              "Weighted Residuals:\n",
              "     Min       1Q   Median       3Q      Max \n",
              "-167.896  -28.672    1.349   27.180  165.812 \n",
              "\n",
              "Coefficients:\n",
              "                        Estimate Std. Error t value Pr(>|t|)    \n",
              "(Intercept)             53.73969    6.37410   8.431  < 2e-16 ***\n",
              "Extraversion             0.11229    0.03776   2.974  0.00305 ** \n",
              "Agreeableness           -0.13689    0.05268  -2.598  0.00957 ** \n",
              "Conscientiousness        0.05710    0.04152   1.375  0.16949    \n",
              "Neuroticism              0.14041    0.04378   3.207  0.00140 ** \n",
              "Openness                 0.04014    0.04231   0.949  0.34308    \n",
              "sessoM                  -7.12510    1.68144  -4.237 2.58e-05 ***\n",
              "self_esteeme            -0.28009    0.05146  -5.443 7.35e-08 ***\n",
              "dipgroupTrento/Rovereto -4.69957    1.75956  -2.671  0.00775 ** \n",
              "---\n",
              "Signif. codes:  0 ‘***’ 0.001 ‘**’ 0.01 ‘*’ 0.05 ‘.’ 0.1 ‘ ’ 1\n",
              "\n",
              "Residual standard error: 45.67 on 672 degrees of freedom\n",
              "  (63 observations deleted due to missingness)\n",
              "Multiple R-squared:  0.1367,\tAdjusted R-squared:  0.1264 \n",
              "F-statistic:  13.3 on 8 and 672 DF,  p-value: < 2.2e-16\n"
            ]
          },
          "metadata": {
            "tags": []
          }
        }
      ]
    },
    {
      "cell_type": "markdown",
      "metadata": {
        "id": "aXCtHDDC1-Up"
      },
      "source": [
        "Anlayzing the results, it turns out that the inserted personality traits, expcept for Openness and Conscientiousness, are significant in determining the social pressure in the relationship with body in social contexts. The one that seems to be more incisive is Neuroticism (high levels of Neuroticism predict high levels of social pressure on body acceptance). It suggests that feelings of anxiety, apprehension and loleliness stimulate the search for social approval (e.g. by the peer group) and/or the tendency to satisfy body-related stereotypes. As hypothesizable, an even more important role in determining social pressure is played by self-esteem, to the extent that a greater self-esteem predicts low levels of social pressure, presumably because of the absence of the necessity to be dependent by other people to acquire confidence. As stated before, sex is also a significant variable. Furthermore, also the department of study seems to play a role in defining social pressure."
      ]
    },
    {
      "cell_type": "markdown",
      "metadata": {
        "id": "3vhERXa41-Up"
      },
      "source": [
        "Now, let's see what specifically happens considering the same model for men and women:"
      ]
    },
    {
      "cell_type": "code",
      "metadata": {
        "id": "9_UAH8Fg1-Uq",
        "colab": {
          "base_uri": "https://localhost:8080/",
          "height": 711
        },
        "outputId": "66434b5b-e1a4-4edd-8a04-53aad0c7fd37"
      },
      "source": [
        "#13 BISC Model for males\n",
        "Big5appmale <- lm(Appsocial~Extraversion+Agreeableness+Neuroticism+Openness+Conscientiousness+dipgroup+self_esteeme,data=BDS[BDS$sesso==\"M\",],weights=peso1)\n",
        "summary(Big5appmale)\n",
        "#14 Standardized betas\n",
        "lm.beta(Big5appmale)"
      ],
      "execution_count": null,
      "outputs": [
        {
          "output_type": "display_data",
          "data": {
            "text/plain": [
              "\n",
              "Call:\n",
              "lm(formula = Appsocial ~ Extraversion + Agreeableness + Neuroticism + \n",
              "    Openness + Conscientiousness + dipgroup + self_esteeme, data = BDS[BDS$sesso == \n",
              "    \"M\", ], weights = peso1)\n",
              "\n",
              "Weighted Residuals:\n",
              "     Min       1Q   Median       3Q      Max \n",
              "-174.378  -36.836   -5.087   31.696  148.205 \n",
              "\n",
              "Coefficients:\n",
              "                        Estimate Std. Error t value Pr(>|t|)    \n",
              "(Intercept)             48.15907    9.55008   5.043  9.1e-07 ***\n",
              "Extraversion             0.19010    0.06577   2.890 0.004202 ** \n",
              "Agreeableness           -0.34762    0.08924  -3.895 0.000127 ***\n",
              "Neuroticism              0.19230    0.07426   2.590 0.010199 *  \n",
              "Openness                 0.08441    0.07424   1.137 0.256701    \n",
              "Conscientiousness        0.14616    0.07114   2.055 0.041008 *  \n",
              "dipgroupTrento/Rovereto -4.93216    2.66810  -1.849 0.065761 .  \n",
              "self_esteeme            -0.31367    0.09134  -3.434 0.000701 ***\n",
              "---\n",
              "Signif. codes:  0 ‘***’ 0.001 ‘**’ 0.01 ‘*’ 0.05 ‘.’ 0.1 ‘ ’ 1\n",
              "\n",
              "Residual standard error: 54.35 on 238 degrees of freedom\n",
              "  (25 observations deleted due to missingness)\n",
              "Multiple R-squared:  0.1701,\tAdjusted R-squared:  0.1457 \n",
              "F-statistic:  6.97 on 7 and 238 DF,  p-value: 1.469e-07\n"
            ]
          },
          "metadata": {
            "tags": []
          }
        },
        {
          "output_type": "display_data",
          "data": {
            "text/plain": [
              "\n",
              "Call:\n",
              "lm(formula = Appsocial ~ Extraversion + Agreeableness + Neuroticism + \n",
              "    Openness + Conscientiousness + dipgroup + self_esteeme, data = BDS[BDS$sesso == \n",
              "    \"M\", ], weights = peso1)\n",
              "\n",
              "Standardized Coefficients::\n",
              "            (Intercept)            Extraversion           Agreeableness \n",
              "             0.00000000              0.20021656             -0.27456280 \n",
              "            Neuroticism                Openness       Conscientiousness \n",
              "             0.18948551              0.07326233              0.14454133 \n",
              "dipgroupTrento/Rovereto            self_esteeme \n",
              "            -0.11773483             -0.26179996 \n"
            ]
          },
          "metadata": {
            "tags": []
          }
        }
      ]
    },
    {
      "cell_type": "code",
      "metadata": {
        "id": "zsCJUfMX1-Ur",
        "colab": {
          "base_uri": "https://localhost:8080/",
          "height": 711
        },
        "outputId": "bf107464-6e36-4b5c-c2db-360a9e2b639b"
      },
      "source": [
        "#15 BISC model for females\n",
        "Big5appfemale <- lm(Appsocial~Extraversion+Agreeableness+Neuroticism+Openness+Conscientiousness+dipgroup+self_esteeme,data=BDS[BDS$sesso==\"F\",],weights=peso1)\n",
        "summary(Big5appfemale)\n",
        "lm.beta(Big5appfemale)"
      ],
      "execution_count": null,
      "outputs": [
        {
          "output_type": "display_data",
          "data": {
            "text/plain": [
              "\n",
              "Call:\n",
              "lm(formula = Appsocial ~ Extraversion + Agreeableness + Neuroticism + \n",
              "    Openness + Conscientiousness + dipgroup + self_esteeme, data = BDS[BDS$sesso == \n",
              "    \"F\", ], weights = peso1)\n",
              "\n",
              "Weighted Residuals:\n",
              "    Min      1Q  Median      3Q     Max \n",
              "-122.57  -25.55    0.50   27.73  101.94 \n",
              "\n",
              "Coefficients:\n",
              "                        Estimate Std. Error t value Pr(>|t|)    \n",
              "(Intercept)             51.28319    8.32175   6.163 1.66e-09 ***\n",
              "Extraversion             0.04236    0.04500   0.941   0.3470    \n",
              "Agreeableness            0.05652    0.06399   0.883   0.3775    \n",
              "Neuroticism              0.09822    0.05350   1.836   0.0671 .  \n",
              "Openness                -0.01425    0.04996  -0.285   0.7756    \n",
              "Conscientiousness       -0.02715    0.05071  -0.535   0.5927    \n",
              "dipgroupTrento/Rovereto -3.50502    2.49349  -1.406   0.1606    \n",
              "self_esteeme            -0.24765    0.05999  -4.128 4.40e-05 ***\n",
              "---\n",
              "Signif. codes:  0 ‘***’ 0.001 ‘**’ 0.01 ‘*’ 0.05 ‘.’ 0.1 ‘ ’ 1\n",
              "\n",
              "Residual standard error: 39.24 on 427 degrees of freedom\n",
              "  (38 observations deleted due to missingness)\n",
              "Multiple R-squared:  0.09981,\tAdjusted R-squared:  0.08505 \n",
              "F-statistic: 6.763 on 7 and 427 DF,  p-value: 1.275e-07\n"
            ]
          },
          "metadata": {
            "tags": []
          }
        },
        {
          "output_type": "display_data",
          "data": {
            "text/plain": [
              "\n",
              "Call:\n",
              "lm(formula = Appsocial ~ Extraversion + Agreeableness + Neuroticism + \n",
              "    Openness + Conscientiousness + dipgroup + self_esteeme, data = BDS[BDS$sesso == \n",
              "    \"F\", ], weights = peso1)\n",
              "\n",
              "Standardized Coefficients::\n",
              "            (Intercept)            Extraversion           Agreeableness \n",
              "             0.00000000              0.04734643              0.04456336 \n",
              "            Neuroticism                Openness       Conscientiousness \n",
              "             0.09933229             -0.01377997             -0.02744350 \n",
              "dipgroupTrento/Rovereto            self_esteeme \n",
              "            -0.06256090             -0.23266189 \n"
            ]
          },
          "metadata": {
            "tags": []
          }
        }
      ]
    },
    {
      "cell_type": "markdown",
      "metadata": {
        "id": "N5Jm1fvW1-Ur"
      },
      "source": [
        "Suprisingly, differently from what happens in males, no one of the Big 5 personality traits is significant in determining how much female are exposed to social pressure in relating to their body. This highlights the presence of a difference in the population of men and women that show certain personality traits. It could be due to different causes able to generate high levels of traits such as Neuroticism in the different genders."
      ]
    },
    {
      "cell_type": "markdown",
      "metadata": {
        "id": "J4Ydzg471-Us"
      },
      "source": [
        "<b>What features predict body care in private contexts?</b>\n",
        "<BR>\n",
        "After having considered body care in social contexts, the item B4 is considered, which measures the satisfaction with physical appearance in private contexts.In this case, we are measuring the body perception only taking into account the individual dimension. In fact, in this case, there is no reference to contexts which provide for social interaction, but to the attitude put towards one’s body in a private and intimate context. \n",
        "In oder words, this item is taking into account the degree of satisfaction that a person perceives while thinking \n",
        "about his/her physical appearance in a private context. I called the concept measured by this item\n",
        "<b>Private Appearance Satisfaction (PAS) Index</b>"
      ]
    },
    {
      "cell_type": "code",
      "metadata": {
        "id": "XJIcRiS71-Ut",
        "colab": {
          "base_uri": "https://localhost:8080/",
          "height": 104
        },
        "outputId": "1210e069-8aa3-4909-f3ee-9d2d508a7539"
      },
      "source": [
        "#16 Analyzing the relationship between sex and body perception in private contexts\n",
        "BDS$Apppriv<-((BDS$B4-1)/(5-1))*100\n",
        "B4sex <- table(BDS$sesso,BDS$Apppriv)\n",
        "chisq.test(B4sex) #independence"
      ],
      "execution_count": null,
      "outputs": [
        {
          "output_type": "display_data",
          "data": {
            "text/plain": [
              "\n",
              "\tPearson's Chi-squared test\n",
              "\n",
              "data:  B4sex\n",
              "X-squared = 7.5401, df = 4, p-value = 0.11\n"
            ]
          },
          "metadata": {
            "tags": []
          }
        }
      ]
    },
    {
      "cell_type": "markdown",
      "metadata": {
        "id": "Xrbzw3u71-Uu"
      },
      "source": [
        "While in the case of social contexts we observed a significant relationship between sex and relation with one's own appearance, in the case of satisfaction with one's own body in private contexts, there aren't significant relationships."
      ]
    },
    {
      "cell_type": "code",
      "metadata": {
        "id": "xbv8_vZm1-Uu",
        "colab": {
          "base_uri": "https://localhost:8080/",
          "height": 728
        },
        "outputId": "1a8d44af-c2c3-4be9-9bd5-8dbdd2df0779"
      },
      "source": [
        "#17 building the linear model to analyze the rel between Big 5 and Apppriv (PAS Index):\n",
        "Big5B4lm <- lm(Apppriv~Extraversion+Agreeableness+Conscientiousness+Neuroticism+Openness+sesso+self_esteeme+dipgroup,data=BDS,weights=BDS$peso1)\n",
        "#18 summarizing\n",
        "summary(Big5B4lm)\n",
        "#19 standardized betas:\n",
        "lm.beta(Big5B4lm)"
      ],
      "execution_count": null,
      "outputs": [
        {
          "output_type": "display_data",
          "data": {
            "text/plain": [
              "\n",
              "Call:\n",
              "lm(formula = Apppriv ~ Extraversion + Agreeableness + Conscientiousness + \n",
              "    Neuroticism + Openness + sesso + self_esteeme + dipgroup, \n",
              "    data = BDS, weights = BDS$peso1)\n",
              "\n",
              "Weighted Residuals:\n",
              "    Min      1Q  Median      3Q     Max \n",
              "-181.46  -29.37    3.39   38.45  155.13 \n",
              "\n",
              "Coefficients:\n",
              "                         Estimate Std. Error t value Pr(>|t|)    \n",
              "(Intercept)             20.502528   6.851860   2.992  0.00287 ** \n",
              "Extraversion            -0.029640   0.040246  -0.736  0.46170    \n",
              "Agreeableness            0.074545   0.056369   1.322  0.18647    \n",
              "Conscientiousness       -0.005238   0.044619  -0.117  0.90658    \n",
              "Neuroticism             -0.109885   0.046935  -2.341  0.01951 *  \n",
              "Openness                -0.021372   0.045438  -0.470  0.63825    \n",
              "sessoM                  -3.377505   1.803081  -1.873  0.06148 .  \n",
              "self_esteeme             0.606195   0.055251  10.972  < 2e-16 ***\n",
              "dipgroupTrento/Rovereto -0.967374   1.886418  -0.513  0.60825    \n",
              "---\n",
              "Signif. codes:  0 ‘***’ 0.001 ‘**’ 0.01 ‘*’ 0.05 ‘.’ 0.1 ‘ ’ 1\n",
              "\n",
              "Residual standard error: 49.08 on 672 degrees of freedom\n",
              "  (63 observations deleted due to missingness)\n",
              "Multiple R-squared:  0.2484,\tAdjusted R-squared:  0.2395 \n",
              "F-statistic: 27.77 on 8 and 672 DF,  p-value: < 2.2e-16\n"
            ]
          },
          "metadata": {
            "tags": []
          }
        },
        {
          "output_type": "display_data",
          "data": {
            "text/plain": [
              "\n",
              "Call:\n",
              "lm(formula = Apppriv ~ Extraversion + Agreeableness + Conscientiousness + \n",
              "    Neuroticism + Openness + sesso + self_esteeme + dipgroup, \n",
              "    data = BDS, weights = BDS$peso1)\n",
              "\n",
              "Standardized Coefficients::\n",
              "            (Intercept)            Extraversion           Agreeableness \n",
              "            0.000000000            -0.027036259             0.050415107 \n",
              "      Conscientiousness             Neuroticism                Openness \n",
              "           -0.004354576            -0.093392081            -0.016512387 \n",
              "                 sessoM            self_esteeme dipgroupTrento/Rovereto \n",
              "           -0.066923271             0.455667013            -0.017793702 \n"
            ]
          },
          "metadata": {
            "tags": []
          }
        }
      ]
    },
    {
      "cell_type": "markdown",
      "metadata": {
        "id": "SoNBJSLs1-Uv"
      },
      "source": [
        "In the case of relationship with appearance in private contexts, the role of Big 5 is totally scaled down. Only Neuroticism remain significant, and with a reduced impact with respect to the one observed in the previous model. Looking at the standardized coefficient, we can see how the most important predictor is of the relationship with body in private context is self-esteem, in a positive verse, taht is, a higher self-esteem increase predicts higher levels of satisfaction with one's body in private contexts."
      ]
    },
    {
      "cell_type": "markdown",
      "metadata": {
        "id": "SjqQQMPe1-Uw"
      },
      "source": [
        "About the successive items considered (B5), there were 7 questions. Some of these were about the self-appreciation of one's appearance, while others were about the perception of being seen by other people as  attractive. Since these two aspects observed, I hypothesized the presence of 2 indeces within this battery. So I tried to perform parallel analysis, that suggested the presence of only one component among these variables, and then I performed PCA, both without and with rotations (varimax and oblimin rotation), without finding good models. Successfully, I performed Factor Analysis with oblimin rotation adopting a Kaiser normalization, finding two highly correlated factors, which suggested me to consider the possibility to treat all these variables as a unique scale, computing Cronbach's Alpha: "
      ]
    },
    {
      "cell_type": "code",
      "metadata": {
        "id": "bZBoEf7n1-Uw"
      },
      "source": [
        "#20 B5: selecting variables aimed at analyzing B5 items\n",
        "B5 <- subset(BDS, select=c(B5_1,B5_2,B5_3,B5_4,B5_5,B5_6,B5_7))\n",
        "#21 reversing negative items\n",
        "B5$B5_6_r<- 6-BDS$B5_6\n",
        "B5$B5_7_r<- 6-BDS$B5_7\n",
        "#dropping the original negative items:\n",
        "B5$B5_6 <- NULL\n",
        "B5$B5_7 <- NULL"
      ],
      "execution_count": null,
      "outputs": []
    },
    {
      "cell_type": "code",
      "metadata": {
        "id": "9y4rQS6b1-Ux",
        "colab": {
          "base_uri": "https://localhost:8080/",
          "height": 121
        },
        "outputId": "d89d9ce0-f34d-4669-deb0-90f19058f23d"
      },
      "source": [
        "#21 Computing Cronbach's Alpha:\n",
        "cronbach.alpha(na.omit(B5))"
      ],
      "execution_count": null,
      "outputs": [
        {
          "output_type": "display_data",
          "data": {
            "text/plain": [
              "\n",
              "Cronbach's alpha for the 'na.omit(B5)' data-set\n",
              "\n",
              "Items: 7\n",
              "Sample units: 700\n",
              "alpha: 0.894\n"
            ]
          },
          "metadata": {
            "tags": []
          }
        }
      ]
    },
    {
      "cell_type": "markdown",
      "metadata": {
        "id": "WBRshCds1-Ux"
      },
      "source": [
        "As presumed, the Cronbach's alpha has been higher, which brought me to build a composite indicator, the **Perceived Body Desirability (PBD)** overall index."
      ]
    },
    {
      "cell_type": "code",
      "metadata": {
        "id": "C5ZpAilo1-Uy"
      },
      "source": [
        "#22 Building Perceived Body Desirability overall index\n",
        "BDS$PBD<-((B5$B5_1+B5$B5_2+B5$B5_3+B5$B5_4+B5$B5_5+B5$B5_6_r+B5$B5_7_r-7)/28)*100"
      ],
      "execution_count": null,
      "outputs": []
    },
    {
      "cell_type": "markdown",
      "metadata": {
        "id": "5SVBti091-Uy"
      },
      "source": [
        "Then, the relationship between sex and perceived body desirability is explored:"
      ]
    },
    {
      "cell_type": "code",
      "metadata": {
        "id": "mlaz4D9a1-Uz",
        "colab": {
          "base_uri": "https://localhost:8080/",
          "height": 87
        },
        "outputId": "b0c95dbc-1152-4dba-f95a-069739f084ff"
      },
      "source": [
        "#23 Exploring the relationship between sex and B5\n",
        "B5sex <- aov((BDS$PBD)~BDS$sesso)\n",
        "summary(B5sex)"
      ],
      "execution_count": null,
      "outputs": [
        {
          "output_type": "display_data",
          "data": {
            "text/plain": [
              "             Df Sum Sq Mean Sq F value Pr(>F)\n",
              "BDS$sesso     1     17    17.4    0.04  0.841\n",
              "Residuals   698 300113   430.0               \n",
              "44 observations deleted due to missingness"
            ]
          },
          "metadata": {
            "tags": []
          }
        }
      ]
    },
    {
      "cell_type": "markdown",
      "metadata": {
        "id": "Lpjt_sTR1-U0"
      },
      "source": [
        "The model showed absence of significant relationships between sex and perception of body desirability. So far, sex had only a significant direct relationship with social pressure on body care."
      ]
    },
    {
      "cell_type": "code",
      "metadata": {
        "id": "ABexWHqb1-U1",
        "colab": {
          "base_uri": "https://localhost:8080/",
          "height": 797
        },
        "outputId": "606aba31-e29f-47ed-8234-f17c0c68fcb9"
      },
      "source": [
        "#24 Exploring the relationship between PBD (B5) variable and Big5,B3,B4,sex,dipgroup\n",
        "B5Big5_<- lm((PBD~Extraversion+Agreeableness+Conscientiousness+Neuroticism+Openness+sesso+Appsocial+self_esteeme+Apppriv+dipgroup),data=BDS,weights=peso1)\n",
        "summary(B5Big5_)\n",
        "lm.beta(B5Big5_)"
      ],
      "execution_count": null,
      "outputs": [
        {
          "output_type": "display_data",
          "data": {
            "text/plain": [
              "\n",
              "Call:\n",
              "lm(formula = (PBD ~ Extraversion + Agreeableness + Conscientiousness + \n",
              "    Neuroticism + Openness + sesso + Appsocial + self_esteeme + \n",
              "    Apppriv + dipgroup), data = BDS, weights = peso1)\n",
              "\n",
              "Weighted Residuals:\n",
              "     Min       1Q   Median       3Q      Max \n",
              "-144.879  -17.360    0.613   16.218   96.099 \n",
              "\n",
              "Coefficients:\n",
              "                         Estimate Std. Error t value Pr(>|t|)    \n",
              "(Intercept)              2.274142   4.344413   0.523 0.600828    \n",
              "Extraversion             0.085333   0.024423   3.494 0.000508 ***\n",
              "Agreeableness           -0.008867   0.034020  -0.261 0.794443    \n",
              "Conscientiousness       -0.039053   0.026717  -1.462 0.144303    \n",
              "Neuroticism              0.065842   0.028392   2.319 0.020699 *  \n",
              "Openness                 0.066858   0.027495   2.432 0.015298 *  \n",
              "sessoM                  -0.384695   1.099208  -0.350 0.726470    \n",
              "Appsocial               -0.124289   0.025284  -4.916 1.12e-06 ***\n",
              "self_esteeme             0.307125   0.036347   8.450  < 2e-16 ***\n",
              "Apppriv                  0.489199   0.023647  20.687  < 2e-16 ***\n",
              "dipgroupTrento/Rovereto  2.427149   1.138163   2.133 0.033335 *  \n",
              "---\n",
              "Signif. codes:  0 ‘***’ 0.001 ‘**’ 0.01 ‘*’ 0.05 ‘.’ 0.1 ‘ ’ 1\n",
              "\n",
              "Residual standard error: 29.06 on 657 degrees of freedom\n",
              "  (76 observations deleted due to missingness)\n",
              "Multiple R-squared:  0.6293,\tAdjusted R-squared:  0.6236 \n",
              "F-statistic: 111.5 on 10 and 657 DF,  p-value: < 2.2e-16\n"
            ]
          },
          "metadata": {
            "tags": []
          }
        },
        {
          "output_type": "display_data",
          "data": {
            "text/plain": [
              "\n",
              "Call:\n",
              "lm(formula = (PBD ~ Extraversion + Agreeableness + Conscientiousness + \n",
              "    Neuroticism + Openness + sesso + Appsocial + self_esteeme + \n",
              "    Apppriv + dipgroup), data = BDS, weights = peso1)\n",
              "\n",
              "Standardized Coefficients::\n",
              "            (Intercept)            Extraversion           Agreeableness \n",
              "            0.000000000             0.090714299            -0.007011114 \n",
              "      Conscientiousness             Neuroticism                Openness \n",
              "           -0.038134067             0.065683147             0.059761105 \n",
              "                 sessoM               Appsocial            self_esteeme \n",
              "           -0.008919274            -0.122708935             0.271021568 \n",
              "                Apppriv dipgroupTrento/Rovereto \n",
              "            0.572784725             0.052303269 \n"
            ]
          },
          "metadata": {
            "tags": []
          }
        }
      ]
    },
    {
      "cell_type": "code",
      "metadata": {
        "id": "FP0_DGd81-U2",
        "colab": {
          "base_uri": "https://localhost:8080/",
          "height": 728
        },
        "outputId": "29d74b04-7a24-44f5-a6e5-3c81ccdb03b4"
      },
      "source": [
        "#24.2 Exploring the relationship between PBD (B5) variable and Big5,B3,B4,sex,dipgroup\n",
        "B5Big5_2<- lm((PBD~Extraversion+Agreeableness+Conscientiousness+Neuroticism+Openness+sesso+self_esteeme+dipgroup),data=BDS,weights=peso1)\n",
        "summary(B5Big5_2)\n",
        "lm.beta(B5Big5_2)"
      ],
      "execution_count": null,
      "outputs": [
        {
          "output_type": "display_data",
          "data": {
            "text/plain": [
              "\n",
              "Call:\n",
              "lm(formula = (PBD ~ Extraversion + Agreeableness + Conscientiousness + \n",
              "    Neuroticism + Openness + sesso + self_esteeme + dipgroup), \n",
              "    data = BDS, weights = peso1)\n",
              "\n",
              "Weighted Residuals:\n",
              "    Min      1Q  Median      3Q     Max \n",
              "-170.13  -21.87    2.44   27.39  129.87 \n",
              "\n",
              "Coefficients:\n",
              "                         Estimate Std. Error t value Pr(>|t|)    \n",
              "(Intercept)              5.641239   5.391614   1.046   0.2958    \n",
              "Extraversion             0.057356   0.031806   1.803   0.0718 .  \n",
              "Agreeableness            0.055313   0.044584   1.241   0.2152    \n",
              "Conscientiousness       -0.056812   0.035285  -1.610   0.1079    \n",
              "Neuroticism             -0.009688   0.037172  -0.261   0.7945    \n",
              "Openness                 0.048714   0.036341   1.340   0.1805    \n",
              "sessoM                  -1.292369   1.423788  -0.908   0.3644    \n",
              "self_esteeme             0.642250   0.043676  14.705   <2e-16 ***\n",
              "dipgroupTrento/Rovereto  2.476704   1.496728   1.655   0.0985 .  \n",
              "---\n",
              "Signif. codes:  0 ‘***’ 0.001 ‘**’ 0.01 ‘*’ 0.05 ‘.’ 0.1 ‘ ’ 1\n",
              "\n",
              "Residual standard error: 38.54 on 662 degrees of freedom\n",
              "  (73 observations deleted due to missingness)\n",
              "Multiple R-squared:  0.3441,\tAdjusted R-squared:  0.3362 \n",
              "F-statistic: 43.41 on 8 and 662 DF,  p-value: < 2.2e-16\n"
            ]
          },
          "metadata": {
            "tags": []
          }
        },
        {
          "output_type": "display_data",
          "data": {
            "text/plain": [
              "\n",
              "Call:\n",
              "lm(formula = (PBD ~ Extraversion + Agreeableness + Conscientiousness + \n",
              "    Neuroticism + Openness + sesso + self_esteeme + dipgroup), \n",
              "    data = BDS, weights = peso1)\n",
              "\n",
              "Standardized Coefficients::\n",
              "            (Intercept)            Extraversion           Agreeableness \n",
              "            0.000000000             0.061287214             0.043780945 \n",
              "      Conscientiousness             Neuroticism                Openness \n",
              "           -0.055520715            -0.009665716             0.043599519 \n",
              "                 sessoM            self_esteeme dipgroupTrento/Rovereto \n",
              "           -0.030064774             0.567196158             0.053386455 \n"
            ]
          },
          "metadata": {
            "tags": []
          }
        }
      ]
    },
    {
      "cell_type": "markdown",
      "metadata": {
        "id": "W0Q-4sE-1-U4"
      },
      "source": [
        "As for the successive questions, these are based on two typologies: the tipology of male body shape, and the one of female body shape. These are articulated in 5 types:\n",
        "<p dir=\"ltr\" style=\"line-height:1.38;margin-top:12pt;margin-bottom:12pt;\"><span style=\"font-size:9pt;font-family:'Times New Roman';color:#244061;background-color:#ffffff;font-weight:400;font-style:normal;font-variant:normal;text-decoration:none;vertical-align:baseline;white-space:pre;white-space:pre-wrap;\"><span style=\"border:none;display:inline-block;overflow:hidden;width:239px;height:172px;\"><img src=\"https://lh5.googleusercontent.com/G0H1slMeO59GKTmKKyBoMYomoaWtrYnPldev7DGmFcUWFoXbepdEt7jd_2moarXHKlCnVa9MOEOyksnEUHWzE49mQQXjKHM7eDQQQPWKcYl0gN3NRKjLN8p70GzAm8EkVpjvAhMg\" width=\"239\" height=\"172\"></span></span><span style=\"font-size:9pt;font-family:'Times New Roman';color:#244061;background-color:#ffffff;font-weight:400;font-style:normal;font-variant:normal;text-decoration:none;vertical-align:baseline;white-space:pre;white-space:pre-wrap;\">&nbsp;</span></p> <p dir=\"ltr\" style=\"line-height:1.38;margin-top:0pt;margin-bottom:0pt;\"><span style=\"font-size:9pt;font-family:'Times New Roman';color:#244061;background-color:transparent;font-weight:400;font-style:normal;font-variant:normal;text-decoration:none;vertical-align:baseline;white-space:pre;white-space:pre-wrap;\"></span><span style=\"font-size:9pt;font-family:'Times New Roman';color:#244061;background-color:transparent;font-weight:400;font-style:normal;font-variant:normal;text-decoration:none;vertical-align:baseline;white-space:pre;white-space:pre-wrap;\"><br></span><span style=\"font-size:9pt;font-family:'Times New Roman';color:#244061;background-color:transparent;font-weight:400;font-style:normal;font-variant:normal;text-decoration:none;vertical-align:baseline;white-space:pre;white-space:pre-wrap;\"><span style=\"border:none;display:inline-block;overflow:hidden;width:251px;height:214px;\"><img src=\"https://lh4.googleusercontent.com/sbLbP9hUpEn8Y_YMez5G2XBRitLEb75_ksvCN49dxoySSW0xiYJr9RNG0-iegCeDaeo7_9ZlFWiho8gxfpcAN6_yen5dmmajh1QpOAUwTQwxiH6GOjTs6OXT6hwbRHDGSRM0vqn3\" width=\"251\" height=\"214\"></span></span></p>\n"
      ]
    },
    {
      "cell_type": "markdown",
      "metadata": {
        "id": "V9B-Tkwq1-U4"
      },
      "source": [
        "In this case, some questions are about the identification with a certain type of body within a typology composed of five possible declinations, as well as the appreciation or the perception about how the others perceive certain kinds of body. To begin with, considering the first two specific questions (the perceived body shape and the desired body shape), they have been joint in a unique dummy variable (Body shape acceptance) that indicates if the perceived body shape of an individual corresponds to its desired body shape or not. The same has been done for the first and the fourth questions, creating a dummy variables that indicates if a person has or not a body shape that they consider as desired by the other sex."
      ]
    },
    {
      "cell_type": "code",
      "metadata": {
        "id": "zottJ_Oh1-U5"
      },
      "source": [
        "#25 creating the Body Shape Acceptance variable\n",
        "BDS$BDSAcceptance[BDS$sesso==\"F\"]<- as.numeric(BDS$B6f_1_1[BDS$sesso==\"F\"]==BDS$B6f_2_1[BDS$sesso==\"F\"])\n",
        "BDS$BDSAcceptance[BDS$sesso==\"M\"]<- as.numeric(BDS$B6m_1_1[BDS$sesso==\"M\"]==BDS$B6m_2_1[BDS$sesso==\"M\"])"
      ],
      "execution_count": null,
      "outputs": []
    },
    {
      "cell_type": "code",
      "metadata": {
        "id": "3f3S-ehJ1-U5"
      },
      "source": [
        "#26 Createing the Other  Sex Perceived Attraction \n",
        "#(Perceived Body Shape Attraction - PBSA) variable:\n",
        "BDS$PBSA[BDS$sesso==\"F\"]<- as.numeric(BDS$B6f_1_1[BDS$sesso==\"F\"]==BDS$B6f_4_1[BDS$sesso==\"F\"])\n",
        "BDS$PBSA[BDS$sesso==\"M\"]<- as.numeric(BDS$B6m_1_1[BDS$sesso==\"M\"]==BDS$B6m_5_1[BDS$sesso==\"M\"])"
      ],
      "execution_count": null,
      "outputs": []
    },
    {
      "cell_type": "markdown",
      "metadata": {
        "id": "0g_gopLa1-U6"
      },
      "source": [
        "Then I computed the relationship between body shape acceptance in males and females, hypothesizing a higher body acceptance in males than in females."
      ]
    },
    {
      "cell_type": "code",
      "metadata": {
        "id": "GsYLm_rQ1-U6",
        "colab": {
          "base_uri": "https://localhost:8080/",
          "height": 243
        },
        "outputId": "13055936-5bcd-4265-e4e5-b948f1665cfe"
      },
      "source": [
        "#27 creating the table\n",
        "BDSAsex <- table(BDS$sesso,BDS$BDSAcceptance)\n",
        "#visualizing the table\n",
        "BDSAsex\n",
        "round(prop.table(BDSAsex,1),digit=3)*100\n",
        "#chi-square test\n",
        "chisq.test(BDSAsex)"
      ],
      "execution_count": null,
      "outputs": [
        {
          "output_type": "display_data",
          "data": {
            "text/plain": [
              "   \n",
              "      0   1\n",
              "  F 302 126\n",
              "  M 197  54"
            ]
          },
          "metadata": {
            "tags": []
          }
        },
        {
          "output_type": "display_data",
          "data": {
            "text/plain": [
              "   \n",
              "       0    1\n",
              "  F 70.6 29.4\n",
              "  M 78.5 21.5"
            ]
          },
          "metadata": {
            "tags": []
          }
        },
        {
          "output_type": "display_data",
          "data": {
            "text/plain": [
              "\n",
              "\tPearson's Chi-squared test with Yates' continuity correction\n",
              "\n",
              "data:  BDSAsex\n",
              "X-squared = 4.7022, df = 1, p-value = 0.03012\n"
            ]
          },
          "metadata": {
            "tags": []
          }
        }
      ]
    },
    {
      "cell_type": "markdown",
      "metadata": {
        "id": "dTc_RaEh1-U7"
      },
      "source": [
        "Surprisingly he table above shows the opposite thing: in females, a significantly higher proportion of people who accept their body has been found. This may be due to the fact that the population of male students is more composed than women of people with a stereotipically considered less attractive body shape."
      ]
    },
    {
      "cell_type": "code",
      "metadata": {
        "scrolled": false,
        "id": "VdgiGqT81-U7",
        "colab": {
          "base_uri": "https://localhost:8080/",
          "height": 1000
        },
        "outputId": "89aa5048-47db-4a3a-9d05-bab83c4f3d56"
      },
      "source": [
        "#28 visualize the big glm logit model with BDSAcceptance as our y\n",
        "install.packages(\"DescTools\")\n",
        "library(DescTools)\n",
        "\n",
        "#28.1 Creating the dummy BA/MA\n",
        "BDS$coursetype <- NA \n",
        "BDS$coursetype[BDS$tipcor==5]<-NA #dropping people in a \"ciclo unico\" course, because it gives no inofrmation about the year\n",
        "BDS$coursetype[BDS$tipcor==2]<-\"MA\" # MA people\n",
        "BDS$coursetype[BDS$tipcor==1]<-\"BA\" #BA people\n",
        "#28.2 model\n",
        "BSAmodel <-glm(BDS$BDSAcceptance~BDS$Neuroticism+BDS$Conscientiousness+BDS$Openness+BDS$Agreeableness+BDS$Extraversion+BDS$sesso+BDS$self_esteeme+BDS$Appsocial+BDS$Apppriv+BDS$dipgroup+BDS$PBD+BDS$coursetype, family=binomial(\"logit\"))\n",
        "summary(BSAmodel)\n",
        "round(PseudoR2(BSAmodel, which=\"McKelveyZavoina\"),digit=2)\n",
        "lm.beta(BSAmodel)\n",
        "#Computing the pseudo-R2 to understand what is the explained variation:\n"
      ],
      "execution_count": null,
      "outputs": [
        {
          "output_type": "stream",
          "text": [
            "Installing package into ‘/usr/local/lib/R/site-library’\n",
            "(as ‘lib’ is unspecified)\n",
            "\n",
            "also installing the dependencies ‘proxy’, ‘rootSolve’, ‘e1071’, ‘lmom’, ‘Exact’, ‘gld’\n",
            "\n",
            "\n",
            "Registered S3 method overwritten by 'DescTools':\n",
            "  method         from \n",
            "  reorder.factor gdata\n",
            "\n",
            "\n",
            "Attaching package: ‘DescTools’\n",
            "\n",
            "\n",
            "The following objects are masked from ‘package:psych’:\n",
            "\n",
            "    AUC, ICC, SD\n",
            "\n",
            "\n"
          ],
          "name": "stderr"
        },
        {
          "output_type": "display_data",
          "data": {
            "text/plain": [
              "\n",
              "Call:\n",
              "glm(formula = BDS$BDSAcceptance ~ BDS$Neuroticism + BDS$Conscientiousness + \n",
              "    BDS$Openness + BDS$Agreeableness + BDS$Extraversion + BDS$sesso + \n",
              "    BDS$self_esteeme + BDS$Appsocial + BDS$Apppriv + BDS$dipgroup + \n",
              "    BDS$PBD + BDS$coursetype, family = binomial(\"logit\"))\n",
              "\n",
              "Deviance Residuals: \n",
              "    Min       1Q   Median       3Q      Max  \n",
              "-1.8414  -0.7325  -0.4273  -0.1162   2.6903  \n",
              "\n",
              "Coefficients:\n",
              "                             Estimate Std. Error z value Pr(>|z|)    \n",
              "(Intercept)                 -3.486522   1.056729  -3.299 0.000969 ***\n",
              "BDS$Neuroticism             -0.004965   0.006495  -0.764 0.444670    \n",
              "BDS$Conscientiousness        0.008539   0.006392   1.336 0.181589    \n",
              "BDS$Openness                -0.006342   0.006469  -0.980 0.326850    \n",
              "BDS$Agreeableness            0.002913   0.008377   0.348 0.728049    \n",
              "BDS$Extraversion            -0.004405   0.005839  -0.754 0.450583    \n",
              "BDS$sessoM                  -0.238920   0.271123  -0.881 0.378198    \n",
              "BDS$self_esteeme            -0.011401   0.009260  -1.231 0.218259    \n",
              "BDS$Appsocial               -0.015648   0.006281  -2.491 0.012729 *  \n",
              "BDS$Apppriv                  0.005032   0.007436   0.677 0.498597    \n",
              "BDS$dipgroupTrento/Rovereto  0.131178   0.285910   0.459 0.646373    \n",
              "BDS$PBD                      0.057924   0.010022   5.780 7.48e-09 ***\n",
              "BDS$coursetypeMA             0.178398   0.249940   0.714 0.475373    \n",
              "---\n",
              "Signif. codes:  0 ‘***’ 0.001 ‘**’ 0.01 ‘*’ 0.05 ‘.’ 0.1 ‘ ’ 1\n",
              "\n",
              "(Dispersion parameter for binomial family taken to be 1)\n",
              "\n",
              "    Null deviance: 600.59  on 543  degrees of freedom\n",
              "Residual deviance: 485.08  on 531  degrees of freedom\n",
              "  (200 observations deleted due to missingness)\n",
              "AIC: 511.08\n",
              "\n",
              "Number of Fisher Scoring iterations: 5\n"
            ]
          },
          "metadata": {
            "tags": []
          }
        },
        {
          "output_type": "display_data",
          "data": {
            "text/plain": [
              "McKelveyZavoina \n",
              "           0.36 "
            ],
            "text/latex": "\\textbf{McKelveyZavoina:} 0.36",
            "text/markdown": "**McKelveyZavoina:** 0.36",
            "text/html": [
              "<strong>McKelveyZavoina:</strong> 0.36"
            ]
          },
          "metadata": {
            "tags": []
          }
        },
        {
          "output_type": "display_data",
          "data": {
            "text/plain": [
              "\n",
              "Call:\n",
              "glm(formula = BDS$BDSAcceptance ~ BDS$Neuroticism + BDS$Conscientiousness + \n",
              "    BDS$Openness + BDS$Agreeableness + BDS$Extraversion + BDS$sesso + \n",
              "    BDS$self_esteeme + BDS$Appsocial + BDS$Apppriv + BDS$dipgroup + \n",
              "    BDS$PBD + BDS$coursetype, family = binomial(\"logit\"))\n",
              "\n",
              "Standardized Coefficients::\n",
              "                (Intercept)             BDS$Neuroticism \n",
              "                  0.0000000                  -0.2407775 \n",
              "      BDS$Conscientiousness                BDS$Openness \n",
              "                  0.4097890                  -0.2713809 \n",
              "          BDS$Agreeableness            BDS$Extraversion \n",
              "                  0.1090658                  -0.2258636 \n",
              "                 BDS$sessoM            BDS$self_esteeme \n",
              "                 -0.2731862                  -0.4873436 \n",
              "              BDS$Appsocial                 BDS$Apppriv \n",
              "                 -0.7514173                   0.2884655 \n",
              "BDS$dipgroupTrento/Rovereto                     BDS$PBD \n",
              "                  0.1397895                   2.8053929 \n",
              "           BDS$coursetypeMA \n",
              "                  0.1894093 \n"
            ]
          },
          "metadata": {
            "tags": []
          }
        }
      ]
    },
    {
      "cell_type": "code",
      "metadata": {
        "scrolled": false,
        "id": "1OyNz-xz1-U8",
        "colab": {
          "base_uri": "https://localhost:8080/"
        },
        "outputId": "9064b710-de78-4574-da19-b0df3b7d54e8"
      },
      "source": [
        "#29 same model without body-related composite indicators\n",
        "BSA2model <-glm(BDS$BDSAcceptance~BDS$Neuroticism+BDS$Conscientiousness+BDS$Openness+BDS$Agreeableness+BDS$Extraversion+BDS$sesso+BDS$self_esteeme+BDS$dipgroup+BDS$coursetype, family=binomial(\"logit\"))\n",
        "summary(BSA2model)\n",
        "round(PseudoR2(BSA2model, which=\"McKelveyZavoina\"),digit=2)\n",
        "lm.beta(BSA2model)\n",
        "#Computing the pseudo-R2 to understand what is the explained variation:\n"
      ],
      "execution_count": null,
      "outputs": [
        {
          "output_type": "display_data",
          "data": {
            "text/plain": [
              "\n",
              "Call:\n",
              "glm(formula = BDS$BDSAcceptance ~ BDS$Neuroticism + BDS$Conscientiousness + \n",
              "    BDS$Openness + BDS$Agreeableness + BDS$Extraversion + BDS$sesso + \n",
              "    BDS$self_esteeme + BDS$dipgroup + BDS$coursetype, family = binomial(\"logit\"))\n",
              "\n",
              "Deviance Residuals: \n",
              "    Min       1Q   Median       3Q      Max  \n",
              "-1.2432  -0.7765  -0.6377  -0.4245   2.2205  \n",
              "\n",
              "Coefficients:\n",
              "                              Estimate Std. Error z value Pr(>|z|)    \n",
              "(Intercept)                 -2.8342946  0.8904679  -3.183 0.001458 ** \n",
              "BDS$Neuroticism             -0.0027586  0.0057331  -0.481 0.630397    \n",
              "BDS$Conscientiousness        0.0042657  0.0056544   0.754 0.450612    \n",
              "BDS$Openness                -0.0015253  0.0058642  -0.260 0.794777    \n",
              "BDS$Agreeableness            0.0002275  0.0072949   0.031 0.975119    \n",
              "BDS$Extraversion            -0.0008144  0.0051133  -0.159 0.873462    \n",
              "BDS$sessoM                  -0.1531238  0.2427429  -0.631 0.528167    \n",
              "BDS$self_esteeme             0.0240241  0.0072617   3.308 0.000938 ***\n",
              "BDS$dipgroupTrento/Rovereto  0.1940218  0.2548302   0.761 0.446432    \n",
              "BDS$coursetypeMA             0.1145844  0.2226381   0.515 0.606786    \n",
              "---\n",
              "Signif. codes:  0 ‘***’ 0.001 ‘**’ 0.01 ‘*’ 0.05 ‘.’ 0.1 ‘ ’ 1\n",
              "\n",
              "(Dispersion parameter for binomial family taken to be 1)\n",
              "\n",
              "    Null deviance: 606.19  on 549  degrees of freedom\n",
              "Residual deviance: 581.91  on 540  degrees of freedom\n",
              "  (194 observations deleted due to missingness)\n",
              "AIC: 601.91\n",
              "\n",
              "Number of Fisher Scoring iterations: 4\n"
            ]
          },
          "metadata": {
            "tags": []
          }
        },
        {
          "output_type": "display_data",
          "data": {
            "text/plain": [
              "McKelveyZavoina \n",
              "           0.07 "
            ],
            "text/latex": "\\textbf{McKelveyZavoina:} 0.07",
            "text/markdown": "**McKelveyZavoina:** 0.07",
            "text/html": [
              "<strong>McKelveyZavoina:</strong> 0.07"
            ]
          },
          "metadata": {
            "tags": []
          }
        },
        {
          "output_type": "display_data",
          "data": {
            "text/plain": [
              "\n",
              "Call:\n",
              "glm(formula = BDS$BDSAcceptance ~ BDS$Neuroticism + BDS$Conscientiousness + \n",
              "    BDS$Openness + BDS$Agreeableness + BDS$Extraversion + BDS$sesso + \n",
              "    BDS$self_esteeme + BDS$dipgroup + BDS$coursetype, family = binomial(\"logit\"))\n",
              "\n",
              "Standardized Coefficients::\n",
              "                (Intercept)             BDS$Neuroticism \n",
              "                0.000000000                -0.133992525 \n",
              "      BDS$Conscientiousness                BDS$Openness \n",
              "                0.204210459                -0.065265627 \n",
              "          BDS$Agreeableness            BDS$Extraversion \n",
              "                0.008518558                -0.041955725 \n",
              "                 BDS$sessoM            BDS$self_esteeme \n",
              "               -0.175645100                 1.027376924 \n",
              "BDS$dipgroupTrento/Rovereto            BDS$coursetypeMA \n",
              "                0.207085067                 0.122078176 \n"
            ]
          },
          "metadata": {
            "tags": []
          }
        }
      ]
    },
    {
      "cell_type": "code",
      "metadata": {
        "id": "UrB8-uhh1-U9",
        "colab": {
          "base_uri": "https://localhost:8080/"
        },
        "outputId": "82d5d562-37bb-4748-81be-1e0a37d86804"
      },
      "source": [
        "#30 model with only the y and Perceived Body desirability\n",
        "nooomodel <-glm(BDS$BDSAcceptance~BDS$PBD, family=binomial(\"logit\"))\n",
        "summary(nooomodel)\n",
        "round(PseudoR2(nooomodel, which=\"McKelveyZavoina\"),digit=2)\n"
      ],
      "execution_count": null,
      "outputs": [
        {
          "output_type": "display_data",
          "data": {
            "text/plain": [
              "\n",
              "Call:\n",
              "glm(formula = BDS$BDSAcceptance ~ BDS$PBD, family = binomial(\"logit\"))\n",
              "\n",
              "Deviance Residuals: \n",
              "    Min       1Q   Median       3Q      Max  \n",
              "-1.8281  -0.7416  -0.4500   0.7824   2.7519  \n",
              "\n",
              "Coefficients:\n",
              "            Estimate Std. Error z value Pr(>|z|)    \n",
              "(Intercept) -4.63450    0.40221 -11.522   <2e-16 ***\n",
              "BDS$PBD      0.06097    0.00617   9.881   <2e-16 ***\n",
              "---\n",
              "Signif. codes:  0 ‘***’ 0.001 ‘**’ 0.01 ‘*’ 0.05 ‘.’ 0.1 ‘ ’ 1\n",
              "\n",
              "(Dispersion parameter for binomial family taken to be 1)\n",
              "\n",
              "    Null deviance: 780.85  on 674  degrees of freedom\n",
              "Residual deviance: 642.63  on 673  degrees of freedom\n",
              "  (69 observations deleted due to missingness)\n",
              "AIC: 646.63\n",
              "\n",
              "Number of Fisher Scoring iterations: 5\n"
            ]
          },
          "metadata": {
            "tags": []
          }
        },
        {
          "output_type": "display_data",
          "data": {
            "text/plain": [
              "McKelveyZavoina \n",
              "           0.33 "
            ],
            "text/latex": "\\textbf{McKelveyZavoina:} 0.33",
            "text/markdown": "**McKelveyZavoina:** 0.33",
            "text/html": [
              "<strong>McKelveyZavoina:</strong> 0.33"
            ]
          },
          "metadata": {
            "tags": []
          }
        }
      ]
    },
    {
      "cell_type": "markdown",
      "metadata": {
        "id": "CiyuZJBt1-U-"
      },
      "source": [
        "The results are problematic. Predicting wheter a person will accept or not their body seems to be complicated. In fact, apart from the type of course (BA/MA, which brings to a differentiaton by age of the sampled individuals), the only significant predictors are the perceived body desirability and the social pressure on body care. Hypothesizing that this may be due to the fact that these two variables could measure dimensions of the same concept mesarured by the y of this model, I tried to drop these variables from the model. However, it brought limited results and the only self-esteem as a predictor (along with a small pseufo-R^2)."
      ]
    },
    {
      "cell_type": "markdown",
      "metadata": {
        "id": "5LblBwZs1-U-"
      },
      "source": [
        "Successively, a model is computed using the other dummy variable, that detects wheter a person considers its body shape as the one appreciated by the other sex (Other Sex Perceived Attraction - OSPA)"
      ]
    },
    {
      "cell_type": "code",
      "metadata": {
        "id": "Ls1Tq_5d1-U_",
        "colab": {
          "base_uri": "https://localhost:8080/"
        },
        "outputId": "88e1d555-8882-4374-fcd1-72c8a4bed3a4"
      },
      "source": [
        "#31.2 PBSA (OBSA) Model\n",
        "PBSAmodel <-glm(BDS$PBSA~BDS$Neuroticism+BDS$Conscientiousness+BDS$Openness+BDS$Agreeableness+BDS$Extraversion+BDS$sesso+BDS$Appsocial+BDS$Apppriv+BDS$self_esteeme+BDS$dipgroup+BDS$PBD+BDS$coursetype, family=binomial(\"logit\"))\n",
        "summary(PBSAmodel)\n",
        "round(PseudoR2(PBSAmodel, which=\"McKelveyZavoina\"),digit=2)"
      ],
      "execution_count": null,
      "outputs": [
        {
          "output_type": "display_data",
          "data": {
            "text/plain": [
              "\n",
              "Call:\n",
              "glm(formula = BDS$PBSA ~ BDS$Neuroticism + BDS$Conscientiousness + \n",
              "    BDS$Openness + BDS$Agreeableness + BDS$Extraversion + BDS$sesso + \n",
              "    BDS$Appsocial + BDS$Apppriv + BDS$self_esteeme + BDS$dipgroup + \n",
              "    BDS$PBD + BDS$coursetype, family = binomial(\"logit\"))\n",
              "\n",
              "Deviance Residuals: \n",
              "    Min       1Q   Median       3Q      Max  \n",
              "-1.1898  -0.5695  -0.4375  -0.2843   2.8315  \n",
              "\n",
              "Coefficients:\n",
              "                             Estimate Std. Error z value Pr(>|z|)    \n",
              "(Intercept)                 -4.378176   1.211107  -3.615 0.000300 ***\n",
              "BDS$Neuroticism             -0.002089   0.007442  -0.281 0.778964    \n",
              "BDS$Conscientiousness       -0.001371   0.007405  -0.185 0.853094    \n",
              "BDS$Openness                -0.006844   0.007598  -0.901 0.367701    \n",
              "BDS$Agreeableness            0.002299   0.009686   0.237 0.812405    \n",
              "BDS$Extraversion             0.002404   0.006934   0.347 0.728802    \n",
              "BDS$sessoM                   0.292469   0.315712   0.926 0.354249    \n",
              "BDS$Appsocial                0.007222   0.007381   0.978 0.327856    \n",
              "BDS$Apppriv                 -0.005107   0.008607  -0.593 0.552909    \n",
              "BDS$self_esteeme             0.004825   0.010900   0.443 0.658018    \n",
              "BDS$dipgroupTrento/Rovereto -0.159805   0.325243  -0.491 0.623186    \n",
              "BDS$PBD                      0.042829   0.011177   3.832 0.000127 ***\n",
              "BDS$coursetypeMA             0.001487   0.298741   0.005 0.996028    \n",
              "---\n",
              "Signif. codes:  0 ‘***’ 0.001 ‘**’ 0.01 ‘*’ 0.05 ‘.’ 0.1 ‘ ’ 1\n",
              "\n",
              "(Dispersion parameter for binomial family taken to be 1)\n",
              "\n",
              "    Null deviance: 416.26  on 538  degrees of freedom\n",
              "Residual deviance: 381.01  on 526  degrees of freedom\n",
              "  (205 observations deleted due to missingness)\n",
              "AIC: 407.01\n",
              "\n",
              "Number of Fisher Scoring iterations: 5\n"
            ]
          },
          "metadata": {
            "tags": []
          }
        },
        {
          "output_type": "display_data",
          "data": {
            "text/plain": [
              "McKelveyZavoina \n",
              "           0.18 "
            ],
            "text/latex": "\\textbf{McKelveyZavoina:} 0.18",
            "text/markdown": "**McKelveyZavoina:** 0.18",
            "text/html": [
              "<strong>McKelveyZavoina:</strong> 0.18"
            ]
          },
          "metadata": {
            "tags": []
          }
        }
      ]
    },
    {
      "cell_type": "code",
      "metadata": {
        "id": "hBbhXw2B1-U_",
        "colab": {
          "base_uri": "https://localhost:8080/"
        },
        "outputId": "6eeb8191-0e63-4a30-81c6-f53956a65a2b"
      },
      "source": [
        "#32\n",
        "PBSAmodel1 <-glm(BDS$PBSA~BDS$PBD, family=binomial(\"logit\"))\n",
        "summary(PBSAmodel1)\n",
        "round(PseudoR2(PBSAmodel1, which=\"McKelveyZavoina\"),digit=2)"
      ],
      "execution_count": null,
      "outputs": [
        {
          "output_type": "display_data",
          "data": {
            "text/plain": [
              "\n",
              "Call:\n",
              "glm(formula = BDS$PBSA ~ BDS$PBD, family = binomial(\"logit\"))\n",
              "\n",
              "Deviance Residuals: \n",
              "    Min       1Q   Median       3Q      Max  \n",
              "-1.1645  -0.5976  -0.4429  -0.2781   2.7910  \n",
              "\n",
              "Coefficients:\n",
              "             Estimate Std. Error z value Pr(>|z|)    \n",
              "(Intercept) -4.514844   0.457927  -9.859  < 2e-16 ***\n",
              "BDS$PBD      0.044843   0.006766   6.628 3.41e-11 ***\n",
              "---\n",
              "Signif. codes:  0 ‘***’ 0.001 ‘**’ 0.01 ‘*’ 0.05 ‘.’ 0.1 ‘ ’ 1\n",
              "\n",
              "(Dispersion parameter for binomial family taken to be 1)\n",
              "\n",
              "    Null deviance: 543.38  on 669  degrees of freedom\n",
              "Residual deviance: 489.75  on 668  degrees of freedom\n",
              "  (74 observations deleted due to missingness)\n",
              "AIC: 493.75\n",
              "\n",
              "Number of Fisher Scoring iterations: 5\n"
            ]
          },
          "metadata": {
            "tags": []
          }
        },
        {
          "output_type": "display_data",
          "data": {
            "text/plain": [
              "McKelveyZavoina \n",
              "           0.21 "
            ],
            "text/latex": "\\textbf{McKelveyZavoina:} 0.21",
            "text/markdown": "**McKelveyZavoina:** 0.21",
            "text/html": [
              "<strong>McKelveyZavoina:</strong> 0.21"
            ]
          },
          "metadata": {
            "tags": []
          }
        }
      ]
    },
    {
      "cell_type": "code",
      "metadata": {
        "id": "6k9Fi6LE1-VA",
        "colab": {
          "base_uri": "https://localhost:8080/"
        },
        "outputId": "b9c6de77-efd8-4e44-cf6d-9639fdd80e3d"
      },
      "source": [
        "#33\n",
        "PBSAmodel2 <-glm(BDS$PBSA~BDS$Neuroticism+BDS$Conscientiousness+BDS$Openness+BDS$Agreeableness+BDS$Extraversion+BDS$self_esteeme+BDS$sesso+BDS$dipgroup+BDS$coursetype, family=binomial(\"logit\"))\n",
        "summary(PBSAmodel2)\n",
        "round(PseudoR2(PBSAmodel2, which=\"McKelveyZavoina\"),digit=2)"
      ],
      "execution_count": null,
      "outputs": [
        {
          "output_type": "display_data",
          "data": {
            "text/plain": [
              "\n",
              "Call:\n",
              "glm(formula = BDS$PBSA ~ BDS$Neuroticism + BDS$Conscientiousness + \n",
              "    BDS$Openness + BDS$Agreeableness + BDS$Extraversion + BDS$self_esteeme + \n",
              "    BDS$sesso + BDS$dipgroup + BDS$coursetype, family = binomial(\"logit\"))\n",
              "\n",
              "Deviance Residuals: \n",
              "    Min       1Q   Median       3Q      Max  \n",
              "-0.8346  -0.5683  -0.4779  -0.3821   2.4880  \n",
              "\n",
              "Coefficients:\n",
              "                              Estimate Std. Error z value Pr(>|z|)   \n",
              "(Intercept)                 -3.6441367  1.1134024  -3.273  0.00106 **\n",
              "BDS$Neuroticism              0.0002989  0.0071003   0.042  0.96642   \n",
              "BDS$Conscientiousness       -0.0014775  0.0071220  -0.207  0.83565   \n",
              "BDS$Openness                -0.0032255  0.0074349  -0.434  0.66441   \n",
              "BDS$Agreeableness            0.0021107  0.0092545   0.228  0.81959   \n",
              "BDS$Extraversion             0.0069301  0.0065256   1.062  0.28824   \n",
              "BDS$self_esteeme             0.0236841  0.0093721   2.527  0.01150 * \n",
              "BDS$sessoM                   0.2027251  0.3009033   0.674  0.50049   \n",
              "BDS$dipgroupTrento/Rovereto -0.1266788  0.3094566  -0.409  0.68228   \n",
              "BDS$coursetypeMA            -0.1387606  0.2902108  -0.478  0.63255   \n",
              "---\n",
              "Signif. codes:  0 ‘***’ 0.001 ‘**’ 0.01 ‘*’ 0.05 ‘.’ 0.1 ‘ ’ 1\n",
              "\n",
              "(Dispersion parameter for binomial family taken to be 1)\n",
              "\n",
              "    Null deviance: 417.92  on 544  degrees of freedom\n",
              "Residual deviance: 404.63  on 535  degrees of freedom\n",
              "  (199 observations deleted due to missingness)\n",
              "AIC: 424.63\n",
              "\n",
              "Number of Fisher Scoring iterations: 5\n"
            ]
          },
          "metadata": {
            "tags": []
          }
        },
        {
          "output_type": "display_data",
          "data": {
            "text/plain": [
              "McKelveyZavoina \n",
              "           0.07 "
            ],
            "text/latex": "\\textbf{McKelveyZavoina:} 0.07",
            "text/markdown": "**McKelveyZavoina:** 0.07",
            "text/html": [
              "<strong>McKelveyZavoina:</strong> 0.07"
            ]
          },
          "metadata": {
            "tags": []
          }
        }
      ]
    },
    {
      "cell_type": "markdown",
      "metadata": {
        "id": "YUf7ubi11-VB"
      },
      "source": [
        "In this case, the results are even worse, with a lower explained variability and perceived body desirabiity as the only predictor of PBSA. The only variable that, erasing body-relating ideces from the predictors, emerges, is always self-esteem, but with a very lower explained variability with respect to the Other sex perceived attraction."
      ]
    },
    {
      "cell_type": "markdown",
      "metadata": {
        "id": "1-49K9pp1-VB"
      },
      "source": [
        "<b>Latent class modelling based on B6 items </b>\n",
        "<BR>\n",
        "However, considering other possible intersections between the specific perceived and desired or considered as attractive body shapes, I decided to try to classify the dataset according to possible latent class based on B6 items. In both the cases, looking at Bayesian Information Criterion, I found that the best model was the one with 3 classes, while the AIC tended to converge to excessively large numbers of classes, which brought me to follow the BIC in choosing the number of classes."
      ]
    },
    {
      "cell_type": "code",
      "metadata": {
        "id": "8YkOwcvB1-VB",
        "colab": {
          "base_uri": "https://localhost:8080/"
        },
        "outputId": "b23c2f5a-6974-46bd-f9ed-badc88f00b6e"
      },
      "source": [
        "#34 Preparing variables for the LCA\n",
        "install.packages(\"poLCA\")\n",
        "library(poLCA)\n",
        "xs2<-cbind(B6f_1_1,B6f_2_1,B6f_3_1,B6f_4_1,B6f_5_1)~1"
      ],
      "execution_count": null,
      "outputs": [
        {
          "output_type": "stream",
          "text": [
            "Installing package into ‘/usr/local/lib/R/site-library’\n",
            "(as ‘lib’ is unspecified)\n",
            "\n",
            "also installing the dependency ‘scatterplot3d’\n",
            "\n",
            "\n",
            "Loading required package: scatterplot3d\n",
            "\n"
          ],
          "name": "stderr"
        }
      ]
    },
    {
      "cell_type": "markdown",
      "metadata": {
        "id": "kzVbU3rg1-VC"
      },
      "source": [
        "Let's explore the latent classes for females: <p dir=\"ltr\" style=\"line-height:1.38;margin-top:0pt;margin-bottom:0pt;\"><span style=\"font-size:9pt;font-family:'Times New Roman';color:#244061;background-color:transparent;font-weight:400;font-style:normal;font-variant:normal;text-decoration:none;vertical-align:baseline;white-space:pre;white-space:pre-wrap;\"></span><span style=\"font-size:9pt;font-family:'Times New Roman';color:#244061;background-color:transparent;font-weight:400;font-style:normal;font-variant:normal;text-decoration:none;vertical-align:baseline;white-space:pre;white-space:pre-wrap;\"><br></span><span style=\"font-size:9pt;font-family:'Times New Roman';color:#244061;background-color:transparent;font-weight:400;font-style:normal;font-variant:normal;text-decoration:none;vertical-align:baseline;white-space:pre;white-space:pre-wrap;\"><span style=\"border:none;display:inline-block;overflow:hidden;width:251px;height:214px;\"><img src=\"https://lh4.googleusercontent.com/sbLbP9hUpEn8Y_YMez5G2XBRitLEb75_ksvCN49dxoySSW0xiYJr9RNG0-iegCeDaeo7_9ZlFWiho8gxfpcAN6_yen5dmmajh1QpOAUwTQwxiH6GOjTs6OXT6hwbRHDGSRM0vqn3\" width=\"251\" height=\"214\"></span></span></p>\n"
      ]
    },
    {
      "cell_type": "code",
      "metadata": {
        "id": "gOlNbYnu1-VD",
        "colab": {
          "base_uri": "https://localhost:8080/"
        },
        "outputId": "83c406bb-6992-41aa-9d61-aee69ba5967f"
      },
      "source": [
        "#35 exploring the best model for females\n",
        "set.seed(10)\n",
        "lca2<-poLCA(xs2, BDS, nclass = 3, maxiter = 1500,graphs = FALSE)"
      ],
      "execution_count": null,
      "outputs": [
        {
          "output_type": "stream",
          "text": [
            "Conditional item response (column) probabilities,\n",
            " by outcome variable, for each class (row) \n",
            " \n",
            "$B6f_1_1\n",
            "           Pr(1)  Pr(2)  Pr(3)  Pr(4)  Pr(5)\n",
            "class 1:  0.6948 0.0000 0.0545 0.0000 0.2507\n",
            "class 2:  0.0000 0.0000 0.0000 0.9658 0.0342\n",
            "class 3:  0.0000 0.3561 0.5365 0.1003 0.0071\n",
            "\n",
            "$B6f_2_1\n",
            "           Pr(1)  Pr(2)  Pr(3)  Pr(4)\n",
            "class 1:  0.5030 0.1829 0.1597 0.1544\n",
            "class 2:  0.4522 0.2000 0.1924 0.1554\n",
            "class 3:  0.2302 0.4286 0.2084 0.1328\n",
            "\n",
            "$B6f_3_1\n",
            "           Pr(1)  Pr(2)  Pr(3)  Pr(4)  Pr(5)\n",
            "class 1:  0.6166 0.0231 0.0364 0.0890 0.2349\n",
            "class 2:  0.0367 0.0005 0.0972 0.8083 0.0573\n",
            "class 3:  0.0000 0.4056 0.5382 0.0562 0.0000\n",
            "\n",
            "$B6f_4_1\n",
            "           Pr(1)  Pr(2)  Pr(3)  Pr(4)  Pr(5)\n",
            "class 1:  0.3884 0.1993 0.1299 0.2825 0.0000\n",
            "class 2:  0.6960 0.1363 0.0830 0.0775 0.0073\n",
            "class 3:  0.7104 0.1276 0.0319 0.1301 0.0000\n",
            "\n",
            "$B6f_5_1\n",
            "           Pr(1)  Pr(2)  Pr(3)  Pr(4)  Pr(5)\n",
            "class 1:  0.2108 0.4493 0.1968 0.1359 0.0071\n",
            "class 2:  0.3581 0.3538 0.2363 0.0445 0.0073\n",
            "class 3:  0.2607 0.4087 0.1546 0.1760 0.0000\n",
            "\n",
            "Estimated class population shares \n",
            " 0.3415 0.3321 0.3264 \n",
            " \n",
            "Predicted class memberships (by modal posterior prob.) \n",
            " 0.3438 0.3341 0.322 \n",
            " \n",
            "========================================================= \n",
            "Fit for 3 latent classes: \n",
            "========================================================= \n",
            "number of observations: 413 \n",
            "number of estimated parameters: 59 \n",
            "residual degrees of freedom: 354 \n",
            "maximum log-likelihood: -2536.099 \n",
            " \n",
            "AIC(3): 5190.198\n",
            "BIC(3): 5427.581\n",
            "G^2(3): 995.1544 (Likelihood ratio/deviance statistic) \n",
            "X^2(3): 3301.818 (Chi-square goodness of fit) \n",
            " \n"
          ],
          "name": "stdout"
        }
      ]
    },
    {
      "cell_type": "code",
      "metadata": {
        "id": "eyBtqZeO1-VE"
      },
      "source": [
        "#36 doing the same for males\n",
        "xm2<-cbind(B6m_1_1,B6m_2_1,B6m_3_1,B6m_4_1,B6m_5_1)~1"
      ],
      "execution_count": null,
      "outputs": []
    },
    {
      "cell_type": "markdown",
      "metadata": {
        "id": "N3TW2iAs1-VE"
      },
      "source": [
        "<p dir=\"ltr\" style=\"line-height:1.38;margin-top:12pt;margin-bottom:12pt;\"><span style=\"font-size:9pt;font-family:'Times New Roman';color:#244061;background-color:#ffffff;font-weight:400;font-style:normal;font-variant:normal;text-decoration:none;vertical-align:baseline;white-space:pre;white-space:pre-wrap;\"><span style=\"border:none;display:inline-block;overflow:hidden;width:239px;height:172px;\"><img src=\"https://lh5.googleusercontent.com/G0H1slMeO59GKTmKKyBoMYomoaWtrYnPldev7DGmFcUWFoXbepdEt7jd_2moarXHKlCnVa9MOEOyksnEUHWzE49mQQXjKHM7eDQQQPWKcYl0gN3NRKjLN8p70GzAm8EkVpjvAhMg\" width=\"239\" height=\"172\"></span></span><span style=\"font-size:9pt;font-family:'Times New Roman';color:#244061;background-color:#ffffff;font-weight:400;font-style:normal;font-variant:normal;text-decoration:none;vertical-align:baseline;white-space:pre;white-space:pre-wrap;\">&nbsp;</span></p> "
      ]
    },
    {
      "cell_type": "code",
      "metadata": {
        "id": "yKhOSIdN1-VF",
        "colab": {
          "base_uri": "https://localhost:8080/"
        },
        "outputId": "d6be5487-d8e1-4ff1-b720-e9252f07e8fa"
      },
      "source": [
        "#37 exploring the best model for males\n",
        "set.seed(11)\n",
        "lca2m<-poLCA(xm2, BDS, nclass = 3, maxiter = 1500,graphs = FALSE)"
      ],
      "execution_count": null,
      "outputs": [
        {
          "output_type": "stream",
          "text": [
            "Conditional item response (column) probabilities,\n",
            " by outcome variable, for each class (row) \n",
            " \n",
            "$B6m_1_1\n",
            "           Pr(1)  Pr(2)  Pr(3)  Pr(4)  Pr(5)\n",
            "class 1:  0.9533 0.0467 0.0000 0.0000 0.0000\n",
            "class 2:  0.0000 0.0000 0.0000 0.6683 0.3317\n",
            "class 3:  0.0396 0.0077 0.7857 0.1670 0.0000\n",
            "\n",
            "$B6m_2_1\n",
            "           Pr(1)  Pr(2)  Pr(3)  Pr(4)  Pr(5)\n",
            "class 1:  0.5626 0.4374 0.0000 0.0000 0.0000\n",
            "class 2:  0.4741 0.0753 0.3754 0.0753 0.0000\n",
            "class 3:  0.7892 0.0559 0.1318 0.0155 0.0077\n",
            "\n",
            "$B6m_3_1\n",
            "           Pr(1) Pr(2)  Pr(3)  Pr(4)  Pr(5)\n",
            "class 1:  0.8088  0.07 0.0979 0.0000 0.0233\n",
            "class 2:  0.0012  0.00 0.0000 0.7726 0.2262\n",
            "class 3:  0.0559  0.00 0.9152 0.0290 0.0000\n",
            "\n",
            "$B6m_4_1\n",
            "           Pr(1)  Pr(2)  Pr(3)  Pr(4)  Pr(5)\n",
            "class 1:  0.3143 0.6087 0.0537 0.0000 0.0233\n",
            "class 2:  0.5230 0.3720 0.0749 0.0301 0.0000\n",
            "class 3:  0.4687 0.4178 0.0518 0.0308 0.0308\n",
            "\n",
            "$B6m_5_1\n",
            "           Pr(1)  Pr(2)  Pr(3)  Pr(4)  Pr(5)\n",
            "class 1:  0.5472 0.4528 0.0000 0.0000 0.0000\n",
            "class 2:  0.6855 0.1491 0.1051 0.0452 0.0151\n",
            "class 3:  0.7401 0.1595 0.0696 0.0000 0.0308\n",
            "\n",
            "Estimated class population shares \n",
            " 0.1793 0.2775 0.5432 \n",
            " \n",
            "Predicted class memberships (by modal posterior prob.) \n",
            " 0.1799 0.2803 0.5397 \n",
            " \n",
            "========================================================= \n",
            "Fit for 3 latent classes: \n",
            "========================================================= \n",
            "number of observations: 239 \n",
            "number of estimated parameters: 62 \n",
            "residual degrees of freedom: 177 \n",
            "maximum log-likelihood: -1115.57 \n",
            " \n",
            "AIC(3): 2355.14\n",
            "BIC(3): 2570.681\n",
            "G^2(3): 366.5859 (Likelihood ratio/deviance statistic) \n",
            "X^2(3): 8980.521 (Chi-square goodness of fit) \n",
            " \n"
          ],
          "name": "stdout"
        }
      ]
    },
    {
      "cell_type": "markdown",
      "metadata": {
        "id": "CLqfchIR1-VF"
      },
      "source": [
        "After that, I classified each interviewee associating to themselves the respective attributed class by the Latent Class algorithm, with the goal to use the latent class as a predictor in predictive models about other variables."
      ]
    },
    {
      "cell_type": "code",
      "metadata": {
        "id": "uHI-uC0U1-VG"
      },
      "source": [
        "#38 Adding the vairable \"latent class female\"\n",
        "lclassf<- lca2$predclass\n",
        "BDS$lclassf<-NA\n",
        "BDS[complete.cases(BDS[,86:90]),]$lclassf<-lclassf"
      ],
      "execution_count": null,
      "outputs": []
    },
    {
      "cell_type": "code",
      "metadata": {
        "id": "mUEimW_l1-VG"
      },
      "source": [
        "#39 Adding the vairable \"latent class male\"\n",
        "lclassm <- lca2m$predclass\n",
        "BDS$lclassm<-NA\n",
        "BDS[complete.cases(BDS[,91:95]),]$lclassm<-lclassm"
      ],
      "execution_count": null,
      "outputs": []
    },
    {
      "cell_type": "markdown",
      "metadata": {
        "id": "760SvQDC1-VH"
      },
      "source": [
        "I fitted a model to try to predict the presence of tattoo and piercing according to the previously used variables, in addition to the latent classes, in orther to see if there are typologies composed of different types of males and females, that, according to certain body shapes as desired, appreciated and source of identification, tend to be more willing to modify their body:"
      ]
    },
    {
      "cell_type": "code",
      "metadata": {
        "id": "ptxG5Slf1-VH"
      },
      "source": [
        "#40 Creating a dummy that takes 0 if the person has neither tattoos nor piercings and 1 otherwise\n",
        "BDS$tatpier[BDS$B13==1]<-0\n",
        "BDS$tatpier[BDS$B13!=1]<-1"
      ],
      "execution_count": null,
      "outputs": []
    },
    {
      "cell_type": "code",
      "metadata": {
        "id": "frv-dFGV1-VI",
        "colab": {
          "base_uri": "https://localhost:8080/"
        },
        "outputId": "d5b3366d-7022-426d-e517-6f77e73b67e7"
      },
      "source": [
        "tatpmodello1<-glm((tatpier~Neuroticism+Conscientiousness+Extraversion+Openness+Agreeableness+self_esteeme+Appsocial+Apppriv+PBD+sesso),data=BDS,family=binomial(\"logit\"))\n",
        "summary(tatpmodello1)\n",
        "round(PseudoR2(tatpmodello1, which=\"McKelveyZavoina\"),digit=2)"
      ],
      "execution_count": null,
      "outputs": [
        {
          "output_type": "display_data",
          "data": {
            "text/plain": [
              "\n",
              "Call:\n",
              "glm(formula = (tatpier ~ Neuroticism + Conscientiousness + Extraversion + \n",
              "    Openness + Agreeableness + self_esteeme + Appsocial + Apppriv + \n",
              "    PBD + sesso), family = binomial(\"logit\"), data = BDS)\n",
              "\n",
              "Deviance Residuals: \n",
              "    Min       1Q   Median       3Q      Max  \n",
              "-1.3949  -0.9055  -0.5083   1.1566   2.3652  \n",
              "\n",
              "Coefficients:\n",
              "                   Estimate Std. Error z value Pr(>|z|)    \n",
              "(Intercept)       -1.405618   0.844658  -1.664  0.09609 .  \n",
              "Neuroticism        0.008751   0.005436   1.610  0.10743    \n",
              "Conscientiousness  0.009040   0.005169   1.749  0.08032 .  \n",
              "Extraversion       0.008642   0.004743   1.822  0.06844 .  \n",
              "Openness           0.003601   0.005284   0.681  0.49557    \n",
              "Agreeableness     -0.004007   0.006557  -0.611  0.54113    \n",
              "self_esteeme      -0.010500   0.007297  -1.439  0.15016    \n",
              "Appsocial         -0.005223   0.005041  -1.036  0.30017    \n",
              "Apppriv           -0.014117   0.006102  -2.314  0.02069 *  \n",
              "PBD                0.021384   0.007693   2.780  0.00544 ** \n",
              "sessoM            -1.577140   0.238925  -6.601 4.08e-11 ***\n",
              "---\n",
              "Signif. codes:  0 ‘***’ 0.001 ‘**’ 0.01 ‘*’ 0.05 ‘.’ 0.1 ‘ ’ 1\n",
              "\n",
              "(Dispersion parameter for binomial family taken to be 1)\n",
              "\n",
              "    Null deviance: 775.35  on 637  degrees of freedom\n",
              "Residual deviance: 693.99  on 627  degrees of freedom\n",
              "  (106 observations deleted due to missingness)\n",
              "AIC: 715.99\n",
              "\n",
              "Number of Fisher Scoring iterations: 4\n"
            ]
          },
          "metadata": {
            "tags": []
          }
        },
        {
          "output_type": "display_data",
          "data": {
            "text/plain": [
              "McKelveyZavoina \n",
              "            0.2 "
            ],
            "text/latex": "\\textbf{McKelveyZavoina:} 0.2",
            "text/markdown": "**McKelveyZavoina:** 0.2",
            "text/html": [
              "<strong>McKelveyZavoina:</strong> 0.2"
            ]
          },
          "metadata": {
            "tags": []
          }
        }
      ]
    },
    {
      "cell_type": "code",
      "metadata": {
        "id": "XdTj-zQi1-VI",
        "colab": {
          "base_uri": "https://localhost:8080/"
        },
        "outputId": "24d93000-a97b-4d2b-958e-8b68653ad2c5"
      },
      "source": [
        "#41\n",
        "tatpmodf<-glm((tatpier~Neuroticism+Conscientiousness+Extraversion+Openness+Agreeableness+self_esteeme+Appsocial+Apppriv+PBD+lclassf),data=BDS[BDS$sesso==\"F\",],family=binomial(\"logit\"))\n",
        "summary(tatpmodf)\n",
        "round(PseudoR2(tatpmodf, which=\"McKelveyZavoina\"),digit=2)"
      ],
      "execution_count": null,
      "outputs": [
        {
          "output_type": "display_data",
          "data": {
            "text/plain": [
              "\n",
              "Call:\n",
              "glm(formula = (tatpier ~ Neuroticism + Conscientiousness + Extraversion + \n",
              "    Openness + Agreeableness + self_esteeme + Appsocial + Apppriv + \n",
              "    PBD + lclassf), family = binomial(\"logit\"), data = BDS[BDS$sesso == \n",
              "    \"F\", ])\n",
              "\n",
              "Deviance Residuals: \n",
              "    Min       1Q   Median       3Q      Max  \n",
              "-1.4728  -1.0047  -0.7941   1.2366   1.8114  \n",
              "\n",
              "Coefficients:\n",
              "                   Estimate Std. Error z value Pr(>|z|)   \n",
              "(Intercept)       -1.127700   1.062266  -1.062  0.28842   \n",
              "Neuroticism        0.006398   0.006436   0.994  0.32018   \n",
              "Conscientiousness  0.008918   0.006133   1.454  0.14591   \n",
              "Extraversion       0.009618   0.005401   1.781  0.07495 . \n",
              "Openness           0.004001   0.006277   0.637  0.52387   \n",
              "Agreeableness     -0.004491   0.007831  -0.573  0.56633   \n",
              "self_esteeme      -0.010441   0.008754  -1.193  0.23300   \n",
              "Appsocial         -0.002205   0.005975  -0.369  0.71212   \n",
              "Apppriv           -0.015315   0.007521  -2.036  0.04171 * \n",
              "PBD                0.024992   0.009445   2.646  0.00814 **\n",
              "lclassf           -0.231934   0.138532  -1.674  0.09409 . \n",
              "---\n",
              "Signif. codes:  0 ‘***’ 0.001 ‘**’ 0.01 ‘*’ 0.05 ‘.’ 0.1 ‘ ’ 1\n",
              "\n",
              "(Dispersion parameter for binomial family taken to be 1)\n",
              "\n",
              "    Null deviance: 503.74  on 373  degrees of freedom\n",
              "Residual deviance: 484.69  on 363  degrees of freedom\n",
              "  (99 observations deleted due to missingness)\n",
              "AIC: 506.69\n",
              "\n",
              "Number of Fisher Scoring iterations: 4\n"
            ]
          },
          "metadata": {
            "tags": []
          }
        },
        {
          "output_type": "display_data",
          "data": {
            "text/plain": [
              "McKelveyZavoina \n",
              "           0.07 "
            ],
            "text/latex": "\\textbf{McKelveyZavoina:} 0.07",
            "text/markdown": "**McKelveyZavoina:** 0.07",
            "text/html": [
              "<strong>McKelveyZavoina:</strong> 0.07"
            ]
          },
          "metadata": {
            "tags": []
          }
        }
      ]
    },
    {
      "cell_type": "code",
      "metadata": {
        "id": "wabNjLJR1-VJ",
        "colab": {
          "base_uri": "https://localhost:8080/"
        },
        "outputId": "9221f3ff-d91e-4480-a3c8-edc6af84fc08"
      },
      "source": [
        "#42\n",
        "tatpmodm<-glm((tatpier~Neuroticism+Conscientiousness+Extraversion+Openness+Agreeableness+self_esteeme+Appsocial+Apppriv+PBD+lclassm),data=BDS[BDS$sesso==\"M\",],family=binomial(\"logit\"))\n",
        "summary(tatpmodm)\n",
        "round(PseudoR2(tatpmodm, which=\"McKelveyZavoina\"),digit=2)"
      ],
      "execution_count": null,
      "outputs": [
        {
          "output_type": "display_data",
          "data": {
            "text/plain": [
              "\n",
              "Call:\n",
              "glm(formula = (tatpier ~ Neuroticism + Conscientiousness + Extraversion + \n",
              "    Openness + Agreeableness + self_esteeme + Appsocial + Apppriv + \n",
              "    PBD + lclassm), family = binomial(\"logit\"), data = BDS[BDS$sesso == \n",
              "    \"M\", ])\n",
              "\n",
              "Deviance Residuals: \n",
              "    Min       1Q   Median       3Q      Max  \n",
              "-0.9550  -0.5384  -0.4193  -0.3153   2.4682  \n",
              "\n",
              "Coefficients:\n",
              "                   Estimate Std. Error z value Pr(>|z|)  \n",
              "(Intercept)       -2.426415   1.842945  -1.317   0.1880  \n",
              "Neuroticism        0.019431   0.012104   1.605   0.1084  \n",
              "Conscientiousness  0.011306   0.011548   0.979   0.3276  \n",
              "Extraversion       0.008033   0.012470   0.644   0.5195  \n",
              "Openness           0.004742   0.012254   0.387   0.6988  \n",
              "Agreeableness     -0.010430   0.015728  -0.663   0.5072  \n",
              "self_esteeme      -0.008235   0.015364  -0.536   0.5919  \n",
              "Appsocial         -0.027261   0.012119  -2.249   0.0245 *\n",
              "Apppriv           -0.004802   0.012476  -0.385   0.7003  \n",
              "PBD                0.013207   0.015185   0.870   0.3844  \n",
              "lclassm           -0.171265   0.277416  -0.617   0.5370  \n",
              "---\n",
              "Signif. codes:  0 ‘***’ 0.001 ‘**’ 0.01 ‘*’ 0.05 ‘.’ 0.1 ‘ ’ 1\n",
              "\n",
              "(Dispersion parameter for binomial family taken to be 1)\n",
              "\n",
              "    Null deviance: 160.35  on 221  degrees of freedom\n",
              "Residual deviance: 149.82  on 211  degrees of freedom\n",
              "  (49 observations deleted due to missingness)\n",
              "AIC: 171.82\n",
              "\n",
              "Number of Fisher Scoring iterations: 5\n"
            ]
          },
          "metadata": {
            "tags": []
          }
        },
        {
          "output_type": "display_data",
          "data": {
            "text/plain": [
              "McKelveyZavoina \n",
              "           0.13 "
            ],
            "text/latex": "\\textbf{McKelveyZavoina:} 0.13",
            "text/markdown": "**McKelveyZavoina:** 0.13",
            "text/html": [
              "<strong>McKelveyZavoina:</strong> 0.13"
            ]
          },
          "metadata": {
            "tags": []
          }
        }
      ]
    },
    {
      "cell_type": "markdown",
      "metadata": {
        "id": "YgFGp1M31-VK"
      },
      "source": [
        "The results didn't show good models when dividing the female data from male data. We can anyway see as the perceived body desirability seems to play a role, as a predictor, only in females."
      ]
    },
    {
      "cell_type": "markdown",
      "metadata": {
        "id": "eJXJAzmq1-VK"
      },
      "source": [
        "<b>Latent classes exploration</b>\n",
        "<BR>\n",
        "I explored the specific features of each generated class:\n",
        "<BR>\n",
        "<b>Male latent classes</b>"
      ]
    },
    {
      "cell_type": "code",
      "metadata": {
        "id": "uqblaT5n1-VM",
        "colab": {
          "base_uri": "https://localhost:8080/"
        },
        "outputId": "d928b7ba-31ec-4c4c-b7b6-650090b786a0"
      },
      "source": [
        "#43 Latent classes exploration\n",
        "round(ci(na.omit(BDS$BDSAcceptance[BDS$lclassm==1])),digit=3)*100"
      ],
      "execution_count": null,
      "outputs": [
        {
          "output_type": "stream",
          "text": [
            "Warning message in ci.numeric(na.omit(BDS$BDSAcceptance[BDS$lclassm == 1])):\n",
            "“No class or unkown class.  Using default calcuation.”\n"
          ],
          "name": "stderr"
        },
        {
          "output_type": "display_data",
          "data": {
            "text/plain": [
              "  Estimate   CI lower   CI upper Std. Error \n",
              "      60.5       45.2       75.7        7.5 "
            ],
            "text/latex": "\\begin{description*}\n\\item[Estimate] 60.5\n\\item[CI lower] 45.2\n\\item[CI upper] 75.7\n\\item[Std. Error] 7.5\n\\end{description*}\n",
            "text/markdown": "Estimate\n:   60.5CI lower\n:   45.2CI upper\n:   75.7Std. Error\n:   7.5\n\n",
            "text/html": [
              "<style>\n",
              ".dl-inline {width: auto; margin:0; padding: 0}\n",
              ".dl-inline>dt, .dl-inline>dd {float: none; width: auto; display: inline-block}\n",
              ".dl-inline>dt::after {content: \":\\0020\"; padding-right: .5ex}\n",
              ".dl-inline>dt:not(:first-of-type) {padding-left: .5ex}\n",
              "</style><dl class=dl-inline><dt>Estimate</dt><dd>60.5</dd><dt>CI lower</dt><dd>45.2</dd><dt>CI upper</dt><dd>75.7</dd><dt>Std. Error</dt><dd>7.5</dd></dl>\n"
            ]
          },
          "metadata": {
            "tags": []
          }
        }
      ]
    },
    {
      "cell_type": "markdown",
      "metadata": {
        "id": "h3wa9KnR1-VM"
      },
      "source": [
        "This first class is characterized by a higher proportion of people that accept their body. As visible in the previously generated tables, these people have, almost totally, recognized themselves with the body picture 1."
      ]
    },
    {
      "cell_type": "code",
      "metadata": {
        "id": "awnOW_aa1-VN",
        "colab": {
          "base_uri": "https://localhost:8080/"
        },
        "outputId": "8309750d-08d9-4642-ef4a-6e91ab1a54d5"
      },
      "source": [
        "round(ci(na.omit(BDS$BDSAcceptance[BDS$lclassm==2])),digit=3)*100"
      ],
      "execution_count": null,
      "outputs": [
        {
          "output_type": "stream",
          "text": [
            "Warning message in ci.numeric(na.omit(BDS$BDSAcceptance[BDS$lclassm == 2])):\n",
            "“No class or unkown class.  Using default calcuation.”\n"
          ],
          "name": "stderr"
        },
        {
          "output_type": "display_data",
          "data": {
            "text/plain": [
              "  Estimate   CI lower   CI upper Std. Error \n",
              "       6.1        0.1       12.0        3.0 "
            ],
            "text/latex": "\\begin{description*}\n\\item[Estimate] 6.1\n\\item[CI lower] 0.1\n\\item[CI upper] 12\n\\item[Std. Error] 3\n\\end{description*}\n",
            "text/markdown": "Estimate\n:   6.1CI lower\n:   0.1CI upper\n:   12Std. Error\n:   3\n\n",
            "text/html": [
              "<style>\n",
              ".dl-inline {width: auto; margin:0; padding: 0}\n",
              ".dl-inline>dt, .dl-inline>dd {float: none; width: auto; display: inline-block}\n",
              ".dl-inline>dt::after {content: \":\\0020\"; padding-right: .5ex}\n",
              ".dl-inline>dt:not(:first-of-type) {padding-left: .5ex}\n",
              "</style><dl class=dl-inline><dt>Estimate</dt><dd>6.1</dd><dt>CI lower</dt><dd>0.1</dd><dt>CI upper</dt><dd>12</dd><dt>Std. Error</dt><dd>3</dd></dl>\n"
            ]
          },
          "metadata": {
            "tags": []
          }
        }
      ]
    },
    {
      "cell_type": "markdown",
      "metadata": {
        "id": "Zwae-0x31-VO"
      },
      "source": [
        "This second class is characterized by a considerably low proportion of people that accept their body. As visible in the previously generated tables, the majotiy of these people have, recognized themselves with the body picture 4 or 5."
      ]
    },
    {
      "cell_type": "code",
      "metadata": {
        "id": "_1ANisxC1-VP",
        "colab": {
          "base_uri": "https://localhost:8080/"
        },
        "outputId": "a7673f9f-d36d-4203-f219-1f6d99f86dca"
      },
      "source": [
        "round(ci(na.omit(BDS$BDSAcceptance[BDS$lclassm==3])),digit=3)*100"
      ],
      "execution_count": null,
      "outputs": [
        {
          "output_type": "stream",
          "text": [
            "Warning message in ci.numeric(na.omit(BDS$BDSAcceptance[BDS$lclassm == 3])):\n",
            "“No class or unkown class.  Using default calcuation.”\n"
          ],
          "name": "stderr"
        },
        {
          "output_type": "display_data",
          "data": {
            "text/plain": [
              "  Estimate   CI lower   CI upper Std. Error \n",
              "      14.0        7.9       20.0        3.1 "
            ],
            "text/latex": "\\begin{description*}\n\\item[Estimate] 14\n\\item[CI lower] 7.9\n\\item[CI upper] 20\n\\item[Std. Error] 3.1\n\\end{description*}\n",
            "text/markdown": "Estimate\n:   14CI lower\n:   7.9CI upper\n:   20Std. Error\n:   3.1\n\n",
            "text/html": [
              "<style>\n",
              ".dl-inline {width: auto; margin:0; padding: 0}\n",
              ".dl-inline>dt, .dl-inline>dd {float: none; width: auto; display: inline-block}\n",
              ".dl-inline>dt::after {content: \":\\0020\"; padding-right: .5ex}\n",
              ".dl-inline>dt:not(:first-of-type) {padding-left: .5ex}\n",
              "</style><dl class=dl-inline><dt>Estimate</dt><dd>14</dd><dt>CI lower</dt><dd>7.9</dd><dt>CI upper</dt><dd>20</dd><dt>Std. Error</dt><dd>3.1</dd></dl>\n"
            ]
          },
          "metadata": {
            "tags": []
          }
        }
      ]
    },
    {
      "cell_type": "markdown",
      "metadata": {
        "id": "974RO0mk1-VP"
      },
      "source": [
        "The third class is in a middle way condition, even if near to the class 2. As visible in the previously generated tables, the majotiy of these people identify themselves with the body shape 3, even if there is a discrete minority in the body shape 4."
      ]
    },
    {
      "cell_type": "markdown",
      "metadata": {
        "id": "wVMh5cJe1-VQ"
      },
      "source": [
        "<b>Female latent classes</b>"
      ]
    },
    {
      "cell_type": "code",
      "metadata": {
        "id": "R680Bl__1-VQ",
        "colab": {
          "base_uri": "https://localhost:8080/"
        },
        "outputId": "e655f85b-8a82-48a1-ea6d-a71d34954814"
      },
      "source": [
        "round(ci(na.omit(BDS$BDSAcceptance[BDS$lclassf==1])),digit=3)*100"
      ],
      "execution_count": null,
      "outputs": [
        {
          "output_type": "stream",
          "text": [
            "Warning message in ci.numeric(na.omit(BDS$BDSAcceptance[BDS$lclassf == 1])):\n",
            "“No class or unkown class.  Using default calcuation.”\n"
          ],
          "name": "stderr"
        },
        {
          "output_type": "display_data",
          "data": {
            "text/plain": [
              "  Estimate   CI lower   CI upper Std. Error \n",
              "      36.6       28.6       44.6        4.1 "
            ],
            "text/latex": "\\begin{description*}\n\\item[Estimate] 36.6\n\\item[CI lower] 28.6\n\\item[CI upper] 44.6\n\\item[Std. Error] 4.1\n\\end{description*}\n",
            "text/markdown": "Estimate\n:   36.6CI lower\n:   28.6CI upper\n:   44.6Std. Error\n:   4.1\n\n",
            "text/html": [
              "<style>\n",
              ".dl-inline {width: auto; margin:0; padding: 0}\n",
              ".dl-inline>dt, .dl-inline>dd {float: none; width: auto; display: inline-block}\n",
              ".dl-inline>dt::after {content: \":\\0020\"; padding-right: .5ex}\n",
              ".dl-inline>dt:not(:first-of-type) {padding-left: .5ex}\n",
              "</style><dl class=dl-inline><dt>Estimate</dt><dd>36.6</dd><dt>CI lower</dt><dd>28.6</dd><dt>CI upper</dt><dd>44.6</dd><dt>Std. Error</dt><dd>4.1</dd></dl>\n"
            ]
          },
          "metadata": {
            "tags": []
          }
        }
      ]
    },
    {
      "cell_type": "markdown",
      "metadata": {
        "id": "Slm5AoyN1-VR"
      },
      "source": [
        "This class is mainly represented by the identified body shape 1, although with a large minority from the body shape 5. It is the one with the highest proportion of body accpetance."
      ]
    },
    {
      "cell_type": "code",
      "metadata": {
        "id": "tftk9qWt1-VR",
        "colab": {
          "base_uri": "https://localhost:8080/"
        },
        "outputId": "ed41d624-cce9-498a-9f62-ef4ea2cf7758"
      },
      "source": [
        "round(ci(na.omit(BDS$BDSAcceptance[BDS$lclassf==2])),digit=3)*100"
      ],
      "execution_count": null,
      "outputs": [
        {
          "output_type": "stream",
          "text": [
            "Warning message in ci.numeric(na.omit(BDS$BDSAcceptance[BDS$lclassf == 2])):\n",
            "“No class or unkown class.  Using default calcuation.”\n"
          ],
          "name": "stderr"
        },
        {
          "output_type": "display_data",
          "data": {
            "text/plain": [
              "  Estimate   CI lower   CI upper Std. Error \n",
              "      15.2        9.1       21.3        3.1 "
            ],
            "text/latex": "\\begin{description*}\n\\item[Estimate] 15.2\n\\item[CI lower] 9.1\n\\item[CI upper] 21.3\n\\item[Std. Error] 3.1\n\\end{description*}\n",
            "text/markdown": "Estimate\n:   15.2CI lower\n:   9.1CI upper\n:   21.3Std. Error\n:   3.1\n\n",
            "text/html": [
              "<style>\n",
              ".dl-inline {width: auto; margin:0; padding: 0}\n",
              ".dl-inline>dt, .dl-inline>dd {float: none; width: auto; display: inline-block}\n",
              ".dl-inline>dt::after {content: \":\\0020\"; padding-right: .5ex}\n",
              ".dl-inline>dt:not(:first-of-type) {padding-left: .5ex}\n",
              "</style><dl class=dl-inline><dt>Estimate</dt><dd>15.2</dd><dt>CI lower</dt><dd>9.1</dd><dt>CI upper</dt><dd>21.3</dd><dt>Std. Error</dt><dd>3.1</dd></dl>\n"
            ]
          },
          "metadata": {
            "tags": []
          }
        }
      ]
    },
    {
      "cell_type": "markdown",
      "metadata": {
        "id": "GDtCGCEq1-VS"
      },
      "source": [
        "The large majority of girls from this class identify themselves with the body shape 4. It is the class with the lowest body acceptance proportion."
      ]
    },
    {
      "cell_type": "code",
      "metadata": {
        "id": "Q5QjV8D_1-VS",
        "colab": {
          "base_uri": "https://localhost:8080/"
        },
        "outputId": "449a0aaa-a0d0-4efc-db17-568033111fe4"
      },
      "source": [
        "round(ci(na.omit(BDS$BDSAcceptance[BDS$lclassf==3])),digit=3)*100"
      ],
      "execution_count": null,
      "outputs": [
        {
          "output_type": "stream",
          "text": [
            "Warning message in ci.numeric(na.omit(BDS$BDSAcceptance[BDS$lclassf == 3])):\n",
            "“No class or unkown class.  Using default calcuation.”\n"
          ],
          "name": "stderr"
        },
        {
          "output_type": "display_data",
          "data": {
            "text/plain": [
              "  Estimate   CI lower   CI upper Std. Error \n",
              "      36.1       27.8       44.4        4.2 "
            ],
            "text/latex": "\\begin{description*}\n\\item[Estimate] 36.1\n\\item[CI lower] 27.8\n\\item[CI upper] 44.4\n\\item[Std. Error] 4.2\n\\end{description*}\n",
            "text/markdown": "Estimate\n:   36.1CI lower\n:   27.8CI upper\n:   44.4Std. Error\n:   4.2\n\n",
            "text/html": [
              "<style>\n",
              ".dl-inline {width: auto; margin:0; padding: 0}\n",
              ".dl-inline>dt, .dl-inline>dd {float: none; width: auto; display: inline-block}\n",
              ".dl-inline>dt::after {content: \":\\0020\"; padding-right: .5ex}\n",
              ".dl-inline>dt:not(:first-of-type) {padding-left: .5ex}\n",
              "</style><dl class=dl-inline><dt>Estimate</dt><dd>36.1</dd><dt>CI lower</dt><dd>27.8</dd><dt>CI upper</dt><dd>44.4</dd><dt>Std. Error</dt><dd>4.2</dd></dl>\n"
            ]
          },
          "metadata": {
            "tags": []
          }
        }
      ]
    },
    {
      "cell_type": "markdown",
      "metadata": {
        "id": "9xsPDIbw1-VU"
      },
      "source": [
        "In the middle way, we have the class 3, mostly represented by the figure 3, but with a relevant proportion from classes 2 and 4. As for the body acceptance, it has similar levels to the class 1."
      ]
    },
    {
      "cell_type": "code",
      "metadata": {
        "colab": {
          "base_uri": "https://localhost:8080/"
        },
        "id": "sOugcvFXHUXF",
        "outputId": "8e3ab61e-7e78-48df-fad2-5be6465f9e80"
      },
      "source": [
        "round(ci(na.omit(BDS$BDSAcceptance[BDS$sesso==\"M\"])),digit=3)*100"
      ],
      "execution_count": null,
      "outputs": [
        {
          "output_type": "stream",
          "text": [
            "Warning message in ci.numeric(na.omit(BDS$BDSAcceptance[BDS$sesso == \"M\"])):\n",
            "“No class or unkown class.  Using default calcuation.”\n"
          ],
          "name": "stderr"
        },
        {
          "output_type": "display_data",
          "data": {
            "text/plain": [
              "  Estimate   CI lower   CI upper Std. Error \n",
              "      21.5       16.4       26.6        2.6 "
            ],
            "text/latex": "\\begin{description*}\n\\item[Estimate] 21.5\n\\item[CI lower] 16.4\n\\item[CI upper] 26.6\n\\item[Std. Error] 2.6\n\\end{description*}\n",
            "text/markdown": "Estimate\n:   21.5CI lower\n:   16.4CI upper\n:   26.6Std. Error\n:   2.6\n\n",
            "text/html": [
              "<style>\n",
              ".dl-inline {width: auto; margin:0; padding: 0}\n",
              ".dl-inline>dt, .dl-inline>dd {float: none; width: auto; display: inline-block}\n",
              ".dl-inline>dt::after {content: \":\\0020\"; padding-right: .5ex}\n",
              ".dl-inline>dt:not(:first-of-type) {padding-left: .5ex}\n",
              "</style><dl class=dl-inline><dt>Estimate</dt><dd>21.5</dd><dt>CI lower</dt><dd>16.4</dd><dt>CI upper</dt><dd>26.6</dd><dt>Std. Error</dt><dd>2.6</dd></dl>\n"
            ]
          },
          "metadata": {
            "tags": []
          }
        }
      ]
    },
    {
      "cell_type": "code",
      "metadata": {
        "colab": {
          "base_uri": "https://localhost:8080/"
        },
        "id": "Lw2lqO_fHXg6",
        "outputId": "2329ccc4-db3e-48ad-b4fb-4322955b0f3d"
      },
      "source": [
        "round(ci(na.omit(BDS$BDSAcceptance[BDS$sesso==\"F\"])),digit=3)*100"
      ],
      "execution_count": null,
      "outputs": [
        {
          "output_type": "stream",
          "text": [
            "Warning message in ci.numeric(na.omit(BDS$BDSAcceptance[BDS$sesso == \"F\"])):\n",
            "“No class or unkown class.  Using default calcuation.”\n"
          ],
          "name": "stderr"
        },
        {
          "output_type": "display_data",
          "data": {
            "text/plain": [
              "  Estimate   CI lower   CI upper Std. Error \n",
              "      29.4       25.1       33.8        2.2 "
            ],
            "text/latex": "\\begin{description*}\n\\item[Estimate] 29.4\n\\item[CI lower] 25.1\n\\item[CI upper] 33.8\n\\item[Std. Error] 2.2\n\\end{description*}\n",
            "text/markdown": "Estimate\n:   29.4CI lower\n:   25.1CI upper\n:   33.8Std. Error\n:   2.2\n\n",
            "text/html": [
              "<style>\n",
              ".dl-inline {width: auto; margin:0; padding: 0}\n",
              ".dl-inline>dt, .dl-inline>dd {float: none; width: auto; display: inline-block}\n",
              ".dl-inline>dt::after {content: \":\\0020\"; padding-right: .5ex}\n",
              ".dl-inline>dt:not(:first-of-type) {padding-left: .5ex}\n",
              "</style><dl class=dl-inline><dt>Estimate</dt><dd>29.4</dd><dt>CI lower</dt><dd>25.1</dd><dt>CI upper</dt><dd>33.8</dd><dt>Std. Error</dt><dd>2.2</dd></dl>\n"
            ]
          },
          "metadata": {
            "tags": []
          }
        }
      ]
    }
  ]
}